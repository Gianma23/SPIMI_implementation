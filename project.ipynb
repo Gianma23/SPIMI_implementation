{
  "cells": [
    {
      "cell_type": "markdown",
      "source": [
        "# Setup"
      ],
      "metadata": {
        "id": "uaEpy78A6TVT"
      }
    },
    {
      "cell_type": "code",
      "source": [
        "!pip install ir_datasets -q\n",
        "!pip install nltk -q\n",
        "!pip install ir_measures -q\n",
        "!pip install PyStemmer -q\n",
        "!pip install pandas -q\n",
        "!pip install python-terrier -q\n",
        "!pip install --upgrade gdown -q"
      ],
      "metadata": {
        "id": "Y3hyYEQb6XMK"
      },
      "execution_count": 1,
      "outputs": []
    },
    {
      "cell_type": "code",
      "source": [
        "import ir_datasets\n",
        "import ir_measures\n",
        "from ir_measures import *\n",
        "import random\n",
        "import re\n",
        "import string\n",
        "import nltk\n",
        "import time\n",
        "from collections import Counter, defaultdict\n",
        "from tqdm.auto import tqdm\n",
        "import gzip\n",
        "import pickle\n",
        "import os\n",
        "import heapq\n",
        "import math\n",
        "import pyterrier as pt\n",
        "from google.colab import drive\n",
        "import os\n",
        "import shutil"
      ],
      "metadata": {
        "id": "Pkr3Z4ZwXgR9"
      },
      "execution_count": 2,
      "outputs": []
    },
    {
      "cell_type": "code",
      "source": [
        "dataset = ir_datasets.load(\"msmarco-passage\")\n",
        "\n",
        "# Mount Google Drive to access required files\n",
        "drive.mount('/content/drive')\n",
        "\n",
        "# URL of the Google Drive repository containing the project files\n",
        "repository = \"YOUR_REPOSITORY_URL\"\n",
        "repository_name = \"ir-project-files\"\n",
        "\n",
        "# Download the specified folder from the repository\n",
        "!gdown --folder $repository\n",
        "\n",
        "# Copy the downloaded files from the repository folder to /content/\n",
        "# This ensures the files are easily accessible during execution\n",
        "for item in os.listdir(repository_name):\n",
        "  s = os.path.join(repository_name, item)\n",
        "  d = os.path.join('/content/', item)\n",
        "  if os.path.isfile(s):             # Check if the item is a file before copying\n",
        "    shutil.copy2(s, d)\n",
        "\n",
        "# Remove the downloaded repository folder to free up space\n",
        "shutil.rmtree(repository_name)"
      ],
      "metadata": {
        "id": "aKFtMhztXhiz"
      },
      "execution_count": null,
      "outputs": []
    }
  ],
  "metadata": {
    "kernelspec": {
      "display_name": "base",
      "language": "python",
      "name": "python3"
    },
    "language_info": {
      "codemirror_mode": {
        "name": "ipython",
        "version": 3
      },
      "file_extension": ".py",
      "mimetype": "text/x-python",
      "name": "python",
      "nbconvert_exporter": "python",
      "pygments_lexer": "ipython3",
      "version": "3.11.5"
    },
    "colab": {
      "provenance": []
    }
  },
  "nbformat": 4,
  "nbformat_minor": 0
}