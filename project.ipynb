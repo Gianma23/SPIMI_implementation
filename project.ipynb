{
  "cells": [
    {
      "cell_type": "markdown",
      "metadata": {
        "id": "uaEpy78A6TVT"
      },
      "source": [
        "# **Information Retrieval system using an on-disk inverted index implementation**\n",
        "\n",
        "In this work, we will develop an **on-disk** indexing and information retrieval system, as computational constraints prevent keeping the entire index in memory. To build the index, we will use the **SPIMI (Single-Pass In-Memory Indexing) algorithm**, which processes documents in *chunks* that are later merged together. This approach avoids memory overflow issues, while maintaining an efficient creation phase.\n",
        "\n",
        "Once the inverted index is generated, we will evaluate the search engine’s performance using **BM25** and **TF-IDF**. For each model, we will implement both the **Document-At-A-Time** (DAAT) and **Term-At-A-Time** (TAAT) approaches, in order to compare not only ranking quality but also the efficiency of postings list access strategies. Finally, we will compare our results with those from **PyTerrier**, to assess the strengths and limitations of our prototype.\n",
        "\n",
        "For experimentation, we will use **MS MARCO Passage Ranking** and **TREC-DL 2020**, which provide queries, documents, and relevance judgments necessary for our goals.\n"
      ]
    },
    {
      "cell_type": "markdown",
      "metadata": {
        "id": "df0vScfEGLl3"
      },
      "source": [
        "## 1. **Setup & Dependencies**"
      ]
    },
    {
      "cell_type": "markdown",
      "metadata": {
        "id": "aNhM3h7FGWno"
      },
      "source": [
        "### 1.1 **Package Installation**"
      ]
    },
    {
      "cell_type": "code",
      "execution_count": null,
      "metadata": {
        "colab": {
          "base_uri": "https://localhost:8080/"
        },
        "id": "Y3hyYEQb6XMK",
        "outputId": "75a9d12b-8b24-4039-9361-fa20845f7db3"
      },
      "outputs": [
        {
          "output_type": "stream",
          "name": "stdout",
          "text": [
            "  Preparing metadata (setup.py) ... \u001b[?25l\u001b[?25hdone\n",
            "  Preparing metadata (setup.py) ... \u001b[?25l\u001b[?25hdone\n",
            "\u001b[2K   \u001b[90m━━━━━━━━━━━━━━━━━━━━━━━━━━━━━━━━━━━━━━━━\u001b[0m \u001b[32m866.1/866.1 kB\u001b[0m \u001b[31m11.5 MB/s\u001b[0m eta \u001b[36m0:00:00\u001b[0m\n",
            "\u001b[2K   \u001b[90m━━━━━━━━━━━━━━━━━━━━━━━━━━━━━━━━━━━━━━━━\u001b[0m \u001b[32m135.0/135.0 kB\u001b[0m \u001b[31m10.7 MB/s\u001b[0m eta \u001b[36m0:00:00\u001b[0m\n",
            "\u001b[2K   \u001b[90m━━━━━━━━━━━━━━━━━━━━━━━━━━━━━━━━━━━━━━━━\u001b[0m \u001b[32m45.1/45.1 kB\u001b[0m \u001b[31m3.6 MB/s\u001b[0m eta \u001b[36m0:00:00\u001b[0m\n",
            "\u001b[2K   \u001b[90m━━━━━━━━━━━━━━━━━━━━━━━━━━━━━━━━━━━━━━━━\u001b[0m \u001b[32m1.3/1.3 MB\u001b[0m \u001b[31m43.5 MB/s\u001b[0m eta \u001b[36m0:00:00\u001b[0m\n",
            "\u001b[?25h  Building wheel for warc3-wet-clueweb09 (setup.py) ... \u001b[?25l\u001b[?25hdone\n",
            "  Building wheel for cbor (setup.py) ... \u001b[?25l\u001b[?25hdone\n",
            "\u001b[2K   \u001b[90m━━━━━━━━━━━━━━━━━━━━━━━━━━━━━━━━━━━━━━━━\u001b[0m \u001b[32m60.1/60.1 kB\u001b[0m \u001b[31m2.0 MB/s\u001b[0m eta \u001b[36m0:00:00\u001b[0m\n",
            "\u001b[2K   \u001b[90m━━━━━━━━━━━━━━━━━━━━━━━━━━━━━━━━━━━━━━━━\u001b[0m \u001b[32m288.0/288.0 kB\u001b[0m \u001b[31m6.0 MB/s\u001b[0m eta \u001b[36m0:00:00\u001b[0m\n",
            "\u001b[2K   \u001b[90m━━━━━━━━━━━━━━━━━━━━━━━━━━━━━━━━━━━━━━━━\u001b[0m \u001b[32m731.9/731.9 kB\u001b[0m \u001b[31m8.4 MB/s\u001b[0m eta \u001b[36m0:00:00\u001b[0m\n",
            "\u001b[2K   \u001b[90m━━━━━━━━━━━━━━━━━━━━━━━━━━━━━━━━━━━━━━━━\u001b[0m \u001b[32m165.8/165.8 kB\u001b[0m \u001b[31m2.6 MB/s\u001b[0m eta \u001b[36m0:00:00\u001b[0m\n",
            "\u001b[?25h  Preparing metadata (setup.py) ... \u001b[?25l\u001b[?25hdone\n",
            "\u001b[2K   \u001b[90m━━━━━━━━━━━━━━━━━━━━━━━━━━━━━━━━━━━━━━━━\u001b[0m \u001b[32m167.5/167.5 kB\u001b[0m \u001b[31m4.2 MB/s\u001b[0m eta \u001b[36m0:00:00\u001b[0m\n",
            "\u001b[2K   \u001b[90m━━━━━━━━━━━━━━━━━━━━━━━━━━━━━━━━━━━━━━━━\u001b[0m \u001b[32m1.6/1.6 MB\u001b[0m \u001b[31m28.2 MB/s\u001b[0m eta \u001b[36m0:00:00\u001b[0m\n",
            "\u001b[?25h  Building wheel for chest (setup.py) ... \u001b[?25l\u001b[?25hdone\n"
          ]
        }
      ],
      "source": [
        "!pip install ir_datasets -q\n",
        "!pip install nltk -q\n",
        "!pip install ir_measures -q\n",
        "!pip install PyStemmer -q\n",
        "!pip install pandas -q\n",
        "!pip install pympler -q\n",
        "!pip install zstandard -q\n",
        "!pip install python-terrier -q\n",
        "!pip install gdown -q"
      ]
    },
    {
      "cell_type": "markdown",
      "metadata": {
        "id": "9YJ7oz_SGZnv"
      },
      "source": [
        "### 1.2 **Library Imports**"
      ]
    },
    {
      "cell_type": "code",
      "execution_count": null,
      "metadata": {
        "id": "Pkr3Z4ZwXgR9"
      },
      "outputs": [],
      "source": [
        "import gc\n",
        "import gzip\n",
        "import heapq\n",
        "import math\n",
        "import os\n",
        "import pickle\n",
        "import random\n",
        "import re\n",
        "import shutil\n",
        "import string\n",
        "import time\n",
        "import unicodedata\n",
        "from collections import Counter, defaultdict, OrderedDict\n",
        "from functools import lru_cache\n",
        "from glob import glob\n",
        "from urllib.parse import urlparse\n",
        "import matplotlib.pyplot as plt\n",
        "\n",
        "import ir_datasets\n",
        "import ir_measures\n",
        "from ir_measures import *\n",
        "import msgpack\n",
        "import nltk\n",
        "from nltk.corpus import stopwords\n",
        "import numpy as np\n",
        "import pandas as pd\n",
        "import pyterrier as pt\n",
        "import Stemmer\n",
        "import zstandard as zstd\n",
        "from google.colab import drive\n",
        "from pympler import asizeof\n",
        "from tqdm.auto import tqdm\n",
        "from nltk.tokenize import word_tokenize\n",
        "\n",
        "import mmap\n",
        "import bisect"
      ]
    },
    {
      "cell_type": "code",
      "execution_count": null,
      "metadata": {
        "id": "D6IrpgQFGaEH"
      },
      "outputs": [],
      "source": [
        "def profile(f):\n",
        "    def f_timer(*args, **kwargs):\n",
        "        start = time.time()\n",
        "        result = f(*args, **kwargs)\n",
        "        end = time.time()\n",
        "        ms = (end - start) * 1000\n",
        "        print(f\"{f.__name__} ({ms:.3f} ms)\")\n",
        "        return result\n",
        "    return f_timer"
      ]
    },
    {
      "cell_type": "markdown",
      "metadata": {
        "id": "hxZhEVKkGgQM"
      },
      "source": [
        "### 1.3 **Data Loading**\n"
      ]
    },
    {
      "cell_type": "code",
      "execution_count": null,
      "metadata": {
        "colab": {
          "base_uri": "https://localhost:8080/"
        },
        "id": "aKFtMhztXhiz",
        "outputId": "175f3ba9-f2b6-44ce-f703-2fc854e785ff"
      },
      "outputs": [
        {
          "output_type": "stream",
          "name": "stdout",
          "text": [
            "Mounted at /content/drive\n",
            "Retrieving folder contents\n",
            "Processing file 1iQlisO-AoQ1oLFQ8CU0lgUq1FKxsDlVT stats.pkl.zst\n",
            "Processing file 1wEzjundwN0N_4srgjQvLlSmZYe7rlz6Y doc_index.pkl.zst\n",
            "Processing file 1EaxH6GjqvH0n5hx-o1Z4D6Xjk8sgaUK7 merged_index.msgpack\n",
            "Processing file 1CV7poD--F2eXJUCyrBn5rk7XJWUv2gS9 lexicon_with_offsets.pkl.zst\n",
            "Retrieving folder contents completed\n",
            "Building directory structure\n",
            "Building directory structure completed\n",
            "Downloading...\n",
            "From: https://drive.google.com/uc?id=1iQlisO-AoQ1oLFQ8CU0lgUq1FKxsDlVT\n",
            "To: /content/inverted_index/stats.pkl.zst\n",
            "100% 98.0/98.0 [00:00<00:00, 462kB/s]\n",
            "Downloading...\n",
            "From: https://drive.google.com/uc?id=1wEzjundwN0N_4srgjQvLlSmZYe7rlz6Y\n",
            "To: /content/inverted_index/doc_index.pkl.zst\n",
            "100% 8.49M/8.49M [00:00<00:00, 21.6MB/s]\n",
            "Downloading...\n",
            "From (original): https://drive.google.com/uc?id=1EaxH6GjqvH0n5hx-o1Z4D6Xjk8sgaUK7\n",
            "From (redirected): https://drive.google.com/uc?id=1EaxH6GjqvH0n5hx-o1Z4D6Xjk8sgaUK7&confirm=t&uuid=f0533ed0-f380-490a-b56d-8330c6c697fa\n",
            "To: /content/inverted_index/merged_index.msgpack\n",
            "100% 451M/451M [00:06<00:00, 70.3MB/s]\n",
            "Downloading...\n",
            "From: https://drive.google.com/uc?id=1CV7poD--F2eXJUCyrBn5rk7XJWUv2gS9\n",
            "To: /content/inverted_index/lexicon_with_offsets.pkl.zst\n",
            "100% 29.6M/29.6M [00:00<00:00, 57.5MB/s]\n",
            "Download completed\n",
            "inverted_index/merged_index.msgpack\n",
            "inverted_index/doc_index.pkl.zst\n",
            "inverted_index/lexicon_with_offsets.pkl.zst\n",
            "inverted_index/stats.pkl.zst\n"
          ]
        }
      ],
      "source": [
        "dataset = ir_datasets.load(\"msmarco-passage\")\n",
        "\n",
        "drive.mount('/content/drive')\n",
        "\n",
        "# URL of the Google Drive repository containing the project files\n",
        "repository = \"https://drive.google.com/drive/folders/19fafX8ac4-OTdnmKUvqCe_LbbKKGJAFW\"\n",
        "repository_name = \"inverted_index\"\n",
        "\n",
        "#Download the specified folder from the repository\n",
        "!gdown --folder $repository\n",
        "\n",
        "#Copy the downloaded files from the repository folder to /content/\n",
        "#This ensures the files are easily accessible during execution\n",
        "for item in os.listdir(repository_name):\n",
        "  s = os.path.join(repository_name, item)\n",
        "  d = os.path.join('/content/', item)\n",
        "  if os.path.isfile(s):\n",
        "    shutil.copy2(s, d)\n",
        "  print(s)\n",
        "\n",
        "# Remove the downloaded repository folder to free up space\n",
        "shutil.rmtree(repository_name)\n",
        "\n",
        "# Unmount Google Drive\n",
        "drive.flush_and_unmount()"
      ]
    },
    {
      "cell_type": "markdown",
      "metadata": {
        "id": "UU7jG_EjIOir"
      },
      "source": [
        "## 2. **Preprocessing**"
      ]
    },
    {
      "cell_type": "markdown",
      "metadata": {
        "id": "WDpBL04gGnjG"
      },
      "source": [
        "### 2.1 **Normalization & Tokenization**\n",
        "\n",
        "1. **Casefold & Unicode normalization**  \n",
        "   - Lowercase conversion  \n",
        "   - Replace *&* with *and*  \n",
        "   - Normalize quotes and dashes  \n",
        "\n",
        "2. **Acronym & dash handling**  \n",
        "   - Remove dots in acronyms  \n",
        "   - Replace intra-word dashes with spaces  \n",
        "\n",
        "3. **URL expansion**: extracting domain and path tokens from them.\n",
        "\n",
        "4. **Tokenization**\n",
        "\n",
        "5. **Filtering & normalization**  \n",
        "   - Discard tokens made only of punctuation/symbols  \n",
        "   - Unicode normalize each token  \n",
        "   - Remove NLTK English stopwords  \n",
        "\n",
        "6. **Stemming**, using Snowball stemmer, an improvement of Porter stemmer."
      ]
    },
    {
      "cell_type": "code",
      "execution_count": null,
      "metadata": {
        "id": "gc_kigb4H41w"
      },
      "outputs": [],
      "source": [
        "nltk.download(\"punkt_tab\", quiet=True)\n",
        "nltk.download(\"stopwords\", quiet=True)\n",
        "\n",
        "# ---  global precompilations ---\n",
        "STEMMER = Stemmer.Stemmer(\"english\")\n",
        "STOPWORDS = set(stopwords.words(\"english\"))\n",
        "ACRONYM_RE = re.compile(r\"\\.(?!(\\S[^. ])|\\d)\")\n",
        "URL_RE = re.compile(r\"(?:https?://)?(?:www\\.)?[a-z0-9\\-]+\\.[a-z]{2,}(?:/[^\\s]*)?\", re.IGNORECASE)\n",
        "QUOTE_DASH_TRANS = str.maketrans(\"‘’´“”–—-\", \"'''\\\"\\\"---\")\n",
        "DASH = re.compile(r\"(?<=\\w)-(?=\\w)\")\n",
        "# ------------------------------\n",
        "\n",
        "def url_to_tokens(u: str) -> str:\n",
        "    \"\"\"\n",
        "    Converts a URL string into useful tokens: domain and split path components.\n",
        "    Args:\n",
        "        u (str): The URL to tokenize.\n",
        "    Returns:\n",
        "        str: Space-separated tokens extracted from the URL.\n",
        "    \"\"\"\n",
        "    if not u.startswith((\"http://\", \"https://\")):\n",
        "        u = \"http://\" + u\n",
        "    p = urlparse(u)\n",
        "    parts = p.netloc.split(\".\") + re.split(r\"[\\/\\-_\\.]\", p.path)\n",
        "    return \" \".join(t for t in parts if t)\n",
        "\n",
        "def preprocess(text: str) -> list[str]:\n",
        "    \"\"\"\n",
        "    Preprocess input text.\n",
        "    Args:\n",
        "        text (str): The input text to preprocess.\n",
        "    Returns:\n",
        "        list[str]: List of processed tokens.\n",
        "    \"\"\"\n",
        "    text = text.lower().replace(\"&\", \" and \").translate(QUOTE_DASH_TRANS)\n",
        "\n",
        "    text = ACRONYM_RE.sub(\"\", text)\n",
        "\n",
        "    text = DASH.sub(\" \", text)\n",
        "\n",
        "    text = URL_RE.sub(lambda m: \" \" + url_to_tokens(m.group(0)) + \" \", text)\n",
        "\n",
        "    tokens = word_tokenize(text)\n",
        "\n",
        "    tokens = [\n",
        "        unicodedata.normalize(\"NFKC\", t)\n",
        "        for t in tokens\n",
        "        if any(c.isalnum() for c in t)\n",
        "    ]\n",
        "\n",
        "    tokens = [t for t in tokens if t not in STOPWORDS]\n",
        "\n",
        "    return STEMMER.stemWords(tokens)\n"
      ]
    },
    {
      "cell_type": "markdown",
      "metadata": {
        "id": "rRaPw6OAG-Iu"
      },
      "source": [
        "### 2.2 **Example Application**\n"
      ]
    },
    {
      "cell_type": "code",
      "execution_count": null,
      "metadata": {
        "colab": {
          "base_uri": "https://localhost:8080/"
        },
        "id": "1i5SQCgHG9Pw",
        "outputId": "3f12e4a7-c841-4170-9b9d-dc246f9b88e6"
      },
      "outputs": [
        {
          "output_type": "stream",
          "name": "stdout",
          "text": [
            "Original: I Will Take The Ring, Though I Do Not Know The Way - F.R.O.D.O. said\n",
            "Tokens:   ['take', 'ring', 'though', 'know', 'way', 'frodo', 'said']\n",
            "\n",
            "Original: You were the Chosen-One—It was said that you would *destroy* the www.sith.net/prophecy, not join them!\n",
            "Tokens:   ['chosen', 'one', 'said', 'would', 'destroy', 'www', 'sith', 'net', 'propheci', 'join']\n",
            "\n"
          ]
        }
      ],
      "source": [
        "samples = [\n",
        "    \"I Will Take The Ring, Though I Do Not Know The Way - F.R.O.D.O. said\",\n",
        "    \"You were the Chosen-One—It was said that you would *destroy* the www.sith.net/prophecy, not join them!\"\n",
        "]\n",
        "\n",
        "for doc in samples:\n",
        "    tokens = preprocess(doc)\n",
        "    print(f\"Original: {doc}\\nTokens:   {tokens}\\n\")"
      ]
    },
    {
      "cell_type": "markdown",
      "metadata": {
        "id": "ejA39RSUKGt2"
      },
      "source": [
        "---"
      ]
    },
    {
      "cell_type": "markdown",
      "metadata": {
        "id": "rRT83CcEMDsC"
      },
      "source": [
        "## 3. **On-Disk Inverted Index** (SPIMI + Merge)\n"
      ]
    },
    {
      "cell_type": "markdown",
      "metadata": {
        "id": "N-XanhgZHEgK"
      },
      "source": [
        "### 3.1 **Configurable Parameters**"
      ]
    },
    {
      "cell_type": "code",
      "execution_count": null,
      "metadata": {
        "id": "B7ZYGmxTGmCG"
      },
      "outputs": [],
      "source": [
        "MAX_POSTINGS_IN_RAM = 8_000_000\n",
        "CHUNK_SIZE          = 2_000_000\n",
        "BATCHES             = 50_000\n",
        "TEMP_DIR_NAME       = \"temp_postings\"\n",
        "COMPRESSOR          = zstd.ZstdCompressor(level=10)\n",
        "DECOMPRESSOR        = zstd.ZstdDecompressor()"
      ]
    },
    {
      "cell_type": "markdown",
      "metadata": {
        "id": "_6tp6rBZHZWN"
      },
      "source": [
        "### 3.2 **Building SPIMI Chunks**\n",
        "\n",
        "We index the corpus in one pass, periodically dumping in-memory postings to disk to bound RAM usage:\n",
        "\n",
        "- **Document Index**  \n",
        "  A NumPy array of document lengths (`doc_index[d]`), compressed with zstd.\n",
        "  Since in the dataset there isn't any other information on the document other than the document length, we use an array instead of a dictionary.\n",
        "\n",
        "- **Lexicon**  \n",
        "  A dictionary mapping each term to `[termID, docFreq, totalTermFreq]`, assigning IDs on first occurrence.\n",
        "\n",
        "- **Partial Postings**  \n",
        "  `inv_d[termID]` and `inv_f[termID]` collect docIDs and term frequencies for up to `CHUNK_SIZE` documents.\n",
        "\n",
        "- **Chunk Dumps**  \n",
        "  After every `CHUNK_SIZE` docs:\n",
        "  1. Serialize `inv_d`/`inv_f` and save to `inverted_chunk_<id>.pkl`.  \n",
        "  2. Clear buffers and run GC (garbage collector).  \n",
        "  3. Increment chunk id.\n",
        "\n",
        "- **Finalisation**  \n",
        "  Flush any leftover postings, then compress and save:\n",
        "  - `doc_index.pkl.zst`  \n",
        "  - `stats.pkl.zst` (num_docs, num_terms, num_tokens, avg_length)  \n",
        "  - `lexicon.pkl.zst`\n",
        "\n",
        "This SPIMI strategy ensures we never hold the full index in memory; later, chunks are merged into the final index with offset bookkeeping."
      ]
    },
    {
      "cell_type": "code",
      "execution_count": null,
      "metadata": {
        "id": "McHpEpm24n6t"
      },
      "outputs": [],
      "source": [
        "def _save_partial_index(inv_d, inv_f, out_dir, chunk_id):\n",
        "    inv_path = os.path.join(out_dir, f\"inverted_chunk_{chunk_id}.pkl\")\n",
        "    with open(inv_path, \"wb\") as f:\n",
        "        pickle.dump({\"docids\": dict(inv_d), \"freqs\": dict(inv_f)}, f)\n",
        "\n",
        "@profile\n",
        "def build_spimi_index(dataset, out_dir=\"index_chunks\"):\n",
        "    os.makedirs(out_dir, exist_ok=True)\n",
        "    lexicon = {}\n",
        "    doc_index = []\n",
        "    inv_d = defaultdict(list)\n",
        "    inv_f = defaultdict(list)\n",
        "    termid_counter = 0\n",
        "    total_tokens = 0\n",
        "    chunk_id = 0\n",
        "\n",
        "    for docid, doc in tqdm(enumerate(dataset.docs_iter()), total=dataset.docs_count(), desc=\"Indexing\"):\n",
        "        tokens = preprocess(doc.text)\n",
        "        token_tf = Counter(tokens)\n",
        "\n",
        "        for token, tf in token_tf.items():\n",
        "            if token not in lexicon:\n",
        "                lexicon[token] = [termid_counter, 0, 0]\n",
        "                termid_counter += 1\n",
        "            term_id = lexicon[token][0]\n",
        "            lexicon[token][1] += 1\n",
        "            lexicon[token][2] += tf\n",
        "            inv_d[term_id].append(docid)\n",
        "            inv_f[term_id].append(tf)\n",
        "\n",
        "        doclen = len(tokens)\n",
        "        doc_index.append(doclen)\n",
        "        total_tokens += doclen\n",
        "\n",
        "        if docid % CHUNK_SIZE == 0:\n",
        "            _save_partial_index(inv_d, inv_f, out_dir, chunk_id)\n",
        "            chunk_id += 1\n",
        "            inv_d.clear()\n",
        "            inv_f.clear()\n",
        "            gc.collect()\n",
        "\n",
        "    if inv_d:\n",
        "        _save_partial_index(inv_d, inv_f, out_dir, chunk_id)\n",
        "        inv_d.clear()\n",
        "        inv_f.clear()\n",
        "\n",
        "    # Compress and save document index\n",
        "    doc_index = np.array(doc_index, dtype=np.uint32)\n",
        "    with open(\"doc_index.pkl.zst\", \"wb\") as f:\n",
        "        with COMPRESSOR.stream_writer(f) as writer:\n",
        "            pickle.dump(doc_index, writer)\n",
        "\n",
        "    # Compress and save stats\n",
        "    stats = {\n",
        "        \"num_docs\": docid+1,\n",
        "        \"num_terms\": len(lexicon),\n",
        "        \"num_tokens\": total_tokens,\n",
        "        \"avg_length\": total_tokens / (docid+1)\n",
        "    }\n",
        "    print(stats)\n",
        "    with open(\"stats.pkl.zst\", \"wb\") as f:\n",
        "        with COMPRESSOR.stream_writer(f) as writer:\n",
        "            pickle.dump(stats, writer)\n",
        "\n",
        "    # Compress and save lexicon\n",
        "    with open(\"lexicon.pkl.zst\", \"wb\") as f:\n",
        "        with COMPRESSOR.stream_writer(f) as writer:\n",
        "            pickle.dump(lexicon, writer)\n",
        "\n",
        "    gc.collect()\n"
      ]
    },
    {
      "cell_type": "markdown",
      "metadata": {
        "id": "3q4z08SeJZOO"
      },
      "source": [
        "### 3.3 **Encoding & Compression Utilities**\n",
        "\n",
        "To produce a compact, seekable final index, we apply to each posting list:\n",
        "\n",
        "- **Delta + Variable-Byte Coding**  \n",
        "  Convert sorted docIDs into gaps, then VB-encode both gaps and term frequencies into self-delimiting byte streams.\n",
        "\n",
        "- **Zstandard Compression**  \n",
        "  Package VB streams with MessagePack and compress, deferring offset calculations until after compression to ensure accurate byte offsets.\n",
        "\n",
        "At query time, `decompress_posting_list` reverses these steps, to recover the original docID and frequency lists."
      ]
    },
    {
      "cell_type": "code",
      "execution_count": null,
      "metadata": {
        "id": "YcyhIsxfJfxo"
      },
      "outputs": [],
      "source": [
        "# Variable byte encoding\n",
        "def _vb_encode_number(n):\n",
        "    bytes_ = []\n",
        "    while True:\n",
        "        bytes_.insert(0, n % 128)\n",
        "        if n < 128:\n",
        "            break\n",
        "        n //= 128\n",
        "    bytes_[-1] += 128\n",
        "    return bytes_\n",
        "\n",
        "def vb_encode_list(numbers):\n",
        "    bytestream = []\n",
        "    for n in numbers:\n",
        "        bytestream.extend(_vb_encode_number(n))\n",
        "    return bytestream\n",
        "\n",
        "# Variable byte decoding\n",
        "def vb_decode_list(bytestream):\n",
        "    numbers = []\n",
        "    n = 0\n",
        "    for b in bytestream:\n",
        "        if b < 128:\n",
        "            n = (n << 7) + b\n",
        "        else:\n",
        "            n = (n << 7) + (b - 128)\n",
        "            numbers.append(n)\n",
        "            n = 0\n",
        "    return np.array(numbers, dtype=np.int32)\n",
        "\n",
        "# Delta encoding (need arr to be sorted)\n",
        "def delta_encode(arr):\n",
        "    if not arr:\n",
        "        return []\n",
        "    encoded = [arr[0]]\n",
        "    for i in range(1, len(arr)):\n",
        "        encoded.append(arr[i] - arr[i - 1])\n",
        "    return encoded\n",
        "\n",
        "# Delta decoding\n",
        "def delta_decode(encoded):\n",
        "    if len(encoded) == 0:\n",
        "        return np.array([], dtype=np.int32)\n",
        "    return np.cumsum(encoded, dtype=np.int32)"
      ]
    },
    {
      "cell_type": "code",
      "execution_count": null,
      "metadata": {
        "id": "8tRSqLISJk_5"
      },
      "outputs": [],
      "source": [
        "def decompress_posting_list(compressed):\n",
        "    decompressed = DECOMPRESSOR.decompress(compressed)\n",
        "    data = msgpack.unpackb(decompressed)\n",
        "\n",
        "    vb_docids = data[\"docids_vb\"]\n",
        "    vb_freqs = data[\"freqs_vb\"]\n",
        "\n",
        "    delta_docids = vb_decode_list(vb_docids)\n",
        "    docids = delta_decode(delta_docids)\n",
        "    freqs = vb_decode_list(vb_freqs)\n",
        "\n",
        "    return docids.tolist(), freqs.tolist()"
      ]
    },
    {
      "cell_type": "markdown",
      "metadata": {
        "id": "0vCQq3QfJoQB"
      },
      "source": [
        "### 3.4 **Spill & Flush**\n",
        "\n",
        "- **Spilling**  \n",
        "  When in-RAM postings exceed `MAX_POSTINGS_IN_RAM`, one termID at a time is hashed into one of the `BATCHES` batch files, until the threshold is no longer exceeded. Each time we hash a termID we append its docID/freq lists in the corresponding batch file, and clear those entries to reclaim memory.\n",
        "\n",
        "- **Flushing**  \n",
        "  As soon as a term’s postings have been collected from all chunks containing that term:\n",
        "  1. Load and merge any spilled segments.  \n",
        "  2. Sort by docID.  \n",
        "  3. Compress posting list\n",
        "  4. Write the blob to the index file; record its byte `offset` and `length` in the lexicon. `offset` is the location in bytes  of the posting list inside the inverted index and `lenght` is the dimension in bytes of the posting list.\n",
        "\n",
        "This scheme bounds RAM usage throughout merging while producing contiguous, compressed postings for every term.  \n"
      ]
    },
    {
      "cell_type": "markdown",
      "metadata": {
        "id": "WtDFkWl5JouY"
      },
      "source": [
        "Helper functions:"
      ]
    },
    {
      "cell_type": "code",
      "execution_count": null,
      "metadata": {
        "id": "HbBisH-nJoDE"
      },
      "outputs": [],
      "source": [
        "def get_temp_path(temp_dir, prefix):\n",
        "    return os.path.join(temp_dir, f\"batch_{prefix}.pkl\")\n",
        "\n",
        "def spill_to_temp(term_postings, total_postings, temp_dir, term_to_batch_map):\n",
        "    \"\"\"Spill some terms to temporary disk files to free memory.\"\"\"\n",
        "    spilled = 0\n",
        "    batch_map = defaultdict(lambda: {\"docids\": {}, \"freqs\": {}}) # batch_prefix -> {docids -> {tid -> []}, freqs: {tid -> []}}\n",
        "\n",
        "    print(f\"Spilling terms to disk, current postings in RAM: {total_postings}\")\n",
        "    for tid in list(term_postings.keys()):\n",
        "        prefix = tid % BATCHES\n",
        "        batch_map[prefix][\"docids\"][tid] = term_postings[tid][0]\n",
        "        batch_map[prefix][\"freqs\"][tid] = term_postings[tid][1]\n",
        "        term_to_batch_map[tid] = prefix\n",
        "        total_postings -= len(term_postings[tid][0])\n",
        "        del term_postings[tid]\n",
        "        spilled += 1\n",
        "\n",
        "        if total_postings < MAX_POSTINGS_IN_RAM:\n",
        "            break\n",
        "\n",
        "    # Save batch data to temporary files\n",
        "    for prefix, data in batch_map.items():\n",
        "        path = get_temp_path(temp_dir, prefix)\n",
        "\n",
        "        if os.path.exists(path):\n",
        "            with open(path, \"rb\") as f:\n",
        "                old_data = pickle.load(f)\n",
        "\n",
        "            for tid in data[\"docids\"]:\n",
        "                old_data[\"docids\"].setdefault(tid, []).extend(data[\"docids\"][tid])\n",
        "                old_data[\"freqs\"].setdefault(tid, []).extend(data[\"freqs\"][tid])\n",
        "\n",
        "            data = old_data\n",
        "\n",
        "        with open(path, \"wb\") as f:\n",
        "            pickle.dump(data, f)\n",
        "\n",
        "    print(f\"\\nSpilled {spilled} terms to disk.\")\n",
        "    return total_postings\n",
        "\n",
        "\n",
        "def flush_term_to_index(term_id, term_postings, temp_dir, index_file, offset_map, term_to_batch_map):\n",
        "    \"\"\"Flush the complete posting list of a term to the index file.\"\"\"\n",
        "    # Retrieve term's temporary file, if exists\n",
        "    prefix = term_to_batch_map.get(term_id)\n",
        "\n",
        "    if prefix is not None:\n",
        "        batch_path = get_temp_path(temp_dir, prefix)\n",
        "        with open(batch_path, \"rb\") as tf:\n",
        "            batch_data = pickle.load(tf)\n",
        "\n",
        "        term_postings[term_id][0].extend(batch_data[\"docids\"][term_id])\n",
        "        term_postings[term_id][1].extend(batch_data[\"freqs\"][term_id])\n",
        "\n",
        "        # Update batch file\n",
        "        del term_to_batch_map[term_id]\n",
        "        del batch_data[\"docids\"][term_id]\n",
        "        del batch_data[\"freqs\"][term_id]\n",
        "        if batch_data[\"docids\"]:\n",
        "            with open(batch_path, \"wb\") as f:\n",
        "                pickle.dump(batch_data, f)\n",
        "        else:\n",
        "            os.remove(batch_path)\n",
        "\n",
        "    # Sort and encode posting list\n",
        "    all_docids, all_freqs = term_postings[term_id]\n",
        "    postings = sorted(zip(all_docids, all_freqs))\n",
        "    docids_sorted, freqs_sorted = zip(*postings) if postings else ([], [])\n",
        "\n",
        "    docids_delta = delta_encode(docids_sorted)\n",
        "    vb_docids = vb_encode_list(docids_delta)\n",
        "    vb_freqs = vb_encode_list(freqs_sorted)\n",
        "\n",
        "    # Compress and save posting list\n",
        "    data = msgpack.packb({\n",
        "        \"docids_vb\": vb_docids,\n",
        "        \"freqs_vb\": vb_freqs\n",
        "    })\n",
        "    compressed = COMPRESSOR.compress(data)\n",
        "    offset = index_file.tell()\n",
        "    index_file.write(compressed)\n",
        "\n",
        "    # Save offset and length in a temporary structure\n",
        "    offset_map[term_id] = (offset, len(compressed))\n",
        "\n",
        "    del term_postings[term_id]\n"
      ]
    },
    {
      "cell_type": "markdown",
      "metadata": {
        "id": "_rf1lHi6Jtb_"
      },
      "source": [
        "### 3.5 **Merge & Final Lexicon**\n",
        "\n",
        "- **Initialize Counters**  \n",
        "  Scan all `inverted_chunk_<i>.pkl` files to count, for each term, how many chunks contain it (`term_chunk_count`).\n",
        "\n",
        "- **One-Pass Merge**  \n",
        "  For each chunk and term:  \n",
        "  1. **Append** in-RAM postings, reduce its chunk count.  \n",
        "  2. **Flush** if count = 0 (merge spills, sort, encode, compress, write blob, record offset/length).  \n",
        "  3. **Spill** to batch files if in-RAM postings exceed threshold.\n",
        "\n",
        "- **Lexicon Update**  \n",
        "  Load original lexicon and augment each entry with its final `(fileOffset, byteLength)`, enabling constant-time access to compressed postings.  \n"
      ]
    },
    {
      "cell_type": "code",
      "execution_count": null,
      "metadata": {
        "id": "JYOhdOEUl8_R"
      },
      "outputs": [],
      "source": [
        "@profile\n",
        "def merge_spimi_chunks(output_index_path=\"merged_index.msgpack\",\n",
        "                       lexicon_path=\"lexicon.pkl.zst\",\n",
        "                       lexicon_path_out=\"lexicon_with_offsets.pkl.zst\",\n",
        "                       chunk_dir=\"index_chunks\"):\n",
        "    chunk_files = sorted(glob(\"index_chunks/inverted_chunk_*.pkl\"))\n",
        "\n",
        "    # Analyze which terms are in which chunks\n",
        "    term_chunk_map = defaultdict(set) # term_id -> [chunk_indexes]\n",
        "    for chunk_index, chunk_file in enumerate(tqdm(chunk_files, desc=\"Scanning chunks\")):\n",
        "        with open(chunk_file, \"rb\") as f:\n",
        "            chunk = pickle.load(f)\n",
        "            for term_id in chunk[\"docids\"]:\n",
        "                term_chunk_map[term_id].add(chunk_index)\n",
        "            del chunk\n",
        "            gc.collect()\n",
        "\n",
        "    # Transform it in a dict of counters\n",
        "    term_chunk_count = {term_id: len(chunks) for term_id, chunks in term_chunk_map.items()}\n",
        "    del term_chunk_map\n",
        "    gc.collect()\n",
        "\n",
        "    # Load term stats (for the loading bar)\n",
        "    stats_path = \"stats.pkl.zst\"\n",
        "    with open(stats_path, \"rb\") as f:\n",
        "        with DECOMPRESSOR.stream_reader(f) as reader:\n",
        "            stats = pickle.load(reader)\n",
        "    num_terms = stats[\"num_terms\"]\n",
        "    progress = tqdm(total=num_terms, desc=\"Terms written\", unit=\"term\")\n",
        "\n",
        "    # Merge loop\n",
        "    term_postings = defaultdict(lambda: [[], []])\n",
        "    term_to_batch_map = {} # term_id -> batch_prefix\n",
        "    offset_map = {} # term_id -> (offset, length)\n",
        "    n_postings = 0\n",
        "    os.makedirs(TEMP_DIR_NAME, exist_ok=True)\n",
        "\n",
        "    with open(output_index_path, \"wb\") as index_file:\n",
        "        for chunk_file in chunk_files:\n",
        "            with open(chunk_file, \"rb\") as f:\n",
        "                chunk = pickle.load(f)\n",
        "\n",
        "            for term_id, docids in chunk[\"docids\"].items():\n",
        "                term_postings[term_id][0].extend(docids)\n",
        "                term_postings[term_id][1].extend(chunk[\"freqs\"][term_id])\n",
        "                term_chunk_count[term_id] -= 1\n",
        "\n",
        "                # flush term to index if it has been seen in all chunks\n",
        "                if term_chunk_count[term_id] == 0:\n",
        "                    flush_term_to_index(\n",
        "                        term_id, term_postings, TEMP_DIR_NAME,\n",
        "                        index_file, offset_map, term_to_batch_map\n",
        "                    )\n",
        "                    progress.update(1)\n",
        "                # else increment postings in RAM\n",
        "                else:\n",
        "                    n_postings += len(docids)\n",
        "\n",
        "            if n_postings >= MAX_POSTINGS_IN_RAM:\n",
        "                n_postings = spill_to_temp(term_postings, n_postings, TEMP_DIR_NAME, term_to_batch_map)\n",
        "            else:\n",
        "                print(\"No need to spill terms to disk, memory usage is within limits.\")\n",
        "\n",
        "            del chunk\n",
        "            gc.collect()\n",
        "\n",
        "    progress.close()\n",
        "\n",
        "    # Merge offset_map with the lexicon\n",
        "    print(\"Updating lexicon with offsets...\")\n",
        "    with open(lexicon_path, \"rb\") as f:\n",
        "        with DECOMPRESSOR.stream_reader(f) as reader:\n",
        "            lexicon = pickle.load(reader)\n",
        "\n",
        "    lexicon_with_offsets = {}\n",
        "    for term, (tid, df, cf) in lexicon.items():\n",
        "        off, length = offset_map.get(tid, (-1, -1))\n",
        "        lexicon_with_offsets[term] = (tid, df, cf, off, length)\n",
        "\n",
        "    with open(lexicon_path_out, \"wb\") as f:\n",
        "        with COMPRESSOR.stream_writer(f) as writer:\n",
        "            pickle.dump(lexicon_with_offsets, writer)\n",
        "\n",
        "    print(\"All done!\")\n"
      ]
    },
    {
      "cell_type": "markdown",
      "metadata": {
        "id": "U2GqyZQ-5zLn"
      },
      "source": [
        "### 3.6 **Index loading or creation**"
      ]
    },
    {
      "cell_type": "code",
      "execution_count": null,
      "metadata": {
        "colab": {
          "base_uri": "https://localhost:8080/"
        },
        "id": "5K_WRYKO5zeq",
        "outputId": "fa928bd3-5189-448f-9381-649aa7b319be"
      },
      "outputs": [
        {
          "output_type": "stream",
          "name": "stdout",
          "text": [
            "All files already exist.\n"
          ]
        }
      ],
      "source": [
        "files = ['merged_index.msgpack', 'lexicon_with_offsets.pkl.zst', 'doc_index.pkl.zst', 'stats.pkl.zst']\n",
        "lex, doc, stats = None, None, None\n",
        "\n",
        "# Check if all required files exist\n",
        "if all(os.path.exists(file) for file in files):\n",
        "    print(\"All files already exist.\")\n",
        "\n",
        "    # Iterate over the list of files and their associated variable names\n",
        "    for file in files:\n",
        "        if os.path.getsize(file) > 0:\n",
        "            continue\n",
        "        else:\n",
        "            print(f\"Error: {file} is empty. Rebuilding the index.\")\n",
        "            build_spimi_index(dataset, \"index_chunks\")\n",
        "            merge_spimi_chunks()\n",
        "            break\n",
        "else:\n",
        "    # If any of the files do not exist, rebuild the index\n",
        "    build_spimi_index(dataset, \"index_chunks\")\n",
        "    merge_spimi_chunks()\n",
        "\n",
        "# Load lexicon, doc_index and stats in memory\n",
        "with open(\"lexicon_with_offsets.pkl.zst\", \"rb\") as f:\n",
        "    with DECOMPRESSOR.stream_reader(f) as reader:\n",
        "        lex = pickle.load(reader)\n",
        "\n",
        "with open(\"doc_index.pkl.zst\", \"rb\") as f:\n",
        "    with DECOMPRESSOR.stream_reader(f) as reader:\n",
        "        doc = pickle.load(reader)\n",
        "\n",
        "with open(\"stats.pkl.zst\", \"rb\") as f:\n",
        "    with DECOMPRESSOR.stream_reader(f) as reader:\n",
        "        stats = pickle.load(reader)"
      ]
    },
    {
      "cell_type": "markdown",
      "metadata": {
        "id": "umTng9ATRKwJ"
      },
      "source": [
        "### 3.7 **Disk-Based Inverted Index**\n",
        "\n",
        "This implementation differs from a traditional in-RAM index in several key ways:\n",
        "\n",
        "- **Memory-Mapped Postings File**  \n",
        "  Instead of loading all posting lists into memory, we `mmap` the consolidated index file. Postings are accessed by seeking the pre-computed byte offsets and lengths, allowing OS-level paging to handle I/O transparently.\n",
        "\n",
        "- **On-Demand Decompression**  \n",
        "  Posting lists remain compressed on disk (delta + VB + Zstd). Each list is decompressed and unpacked only when first requested, minimizing upfront CPU and memory cost.\n",
        "\n",
        "- **LRU Cache of Recent Postings**  \n",
        "  To reduce decompression cost and speed up repeated queries, we maintain a small in-process cache (e.g. 1024 terms) keyed by term string.\n",
        "\n",
        "- **Handling Out-Of-Vocabulary**\n",
        "  If a query term is not in the vocabulary, its posting list will be empty.\n",
        "  \n",
        "This allows to reach a **minimal resident memory footprint**, since at any time, only the lexicon, statistics, document index and a bounded number of decompressed posting arrays live in memory. Large collections can thus be served on machines with limited RAM, relying on the OS and disk for the remainder.  \n"
      ]
    },
    {
      "cell_type": "code",
      "execution_count": null,
      "metadata": {
        "id": "0tLCJXAPRArI"
      },
      "outputs": [],
      "source": [
        "class DiskInvertedIndex:\n",
        "    \"\"\"\n",
        "    A simple inverted index class. Stores term-document mappings for fast retrieval.\n",
        "\n",
        "    Attributes:\n",
        "        lexicon (dict): Maps a token to [termID, docFreq, totalTermFreq].\n",
        "        inv (mmap object): Contains the inverted file.\n",
        "        doc (list): Each element is doc_length.\n",
        "        stat (dict): Index statistics (e.g., num_docs, num_terms, num_tokens).\n",
        "    \"\"\"\n",
        "\n",
        "    class PostingListIterator:\n",
        "        \"\"\"\n",
        "        Iterates over the posting list for a single termID.\n",
        "\n",
        "        Attributes:\n",
        "            docids (list[int]): Document IDs containing this term.\n",
        "            freqs (list[int]): Term frequencies in the corresponding docID.\n",
        "            pos (int): Current index in the posting list.\n",
        "            doc (list): Reference to the main document index.\n",
        "        \"\"\"\n",
        "\n",
        "        def __init__(self, docids, freqs, doc):\n",
        "            \"\"\"\n",
        "            Initialize the iterator with document IDs, frequencies, and a reference to the document index.\n",
        "            \"\"\"\n",
        "            self.docids = docids            # List of document IDs where the term appears\n",
        "            self.freqs = freqs              # List of term frequencies corresponding to each document ID\n",
        "            self.pos = 0                    # Start position in the posting list\n",
        "            self.doc = doc                  # Reference to the main document index\n",
        "\n",
        "        def docid(self):\n",
        "            \"\"\"\n",
        "            Returns the current document ID or math.inf if the end of the list is reached.\n",
        "            \"\"\"\n",
        "            if self.is_end_list():\n",
        "                return math.inf\n",
        "            return self.docids[self.pos]\n",
        "\n",
        "        def score(self):\n",
        "            \"\"\"\n",
        "            Computes the term frequency normalized by the document length for the current position.\n",
        "            Returns math.inf if the end of the list is reached.\n",
        "            \"\"\"\n",
        "            if self.is_end_list():\n",
        "                return math.inf\n",
        "            return self.freqs[self.pos]/self.doc[self.docid()]\n",
        "\n",
        "        def next(self, target = None):\n",
        "            \"\"\"\n",
        "            Advances to the next position in the posting list or jumps to the target document ID.\n",
        "            \"\"\"\n",
        "            if not target:\n",
        "                if not self.is_end_list():\n",
        "                    self.pos += 1\n",
        "            else:\n",
        "                self.pos = bisect.bisect_left(self.docids, target, self.pos)\n",
        "\n",
        "        def is_end_list(self):\n",
        "            \"\"\"\n",
        "            Checks if the iterator has reached the end of the posting list.\n",
        "            \"\"\"\n",
        "            return self.pos == len(self.docids)\n",
        "\n",
        "        def len(self):\n",
        "            \"\"\"\n",
        "            Returns the total number of document IDs in the posting list.\n",
        "            \"\"\"\n",
        "            return len(self.docids)\n",
        "\n",
        "    def __init__(self, lex, postings_file, doc, stats):\n",
        "        \"\"\"\n",
        "        Initialize the inverted index with its components: lexicon, inverted file, document index, and stats.\n",
        "        \"\"\"\n",
        "        self.lexicon = lex          # Lexicon mapping tokens to [termID, docFreq, totalTermFreq]\n",
        "        self.doc = doc              # List of documents with IDs and lengths\n",
        "        self.stats = stats           # Index statistics (e.g., number of documents, terms, tokens)\n",
        "\n",
        "        # Maps the binary file of the posting lists\n",
        "        if os.path.exists(postings_file):\n",
        "            with open(postings_file, \"rb\") as f:\n",
        "                self.inv = mmap.mmap(f.fileno(), 0, access=mmap.ACCESS_READ)\n",
        "        else:\n",
        "            raise FileNotFoundError(f\"Posting file {postings_file} does not exist\")\n",
        "\n",
        "        # Cache logic\n",
        "        self.cache = OrderedDict()  # term -> PostingListIterator\n",
        "        self.cache_size = 1024\n",
        "        self.cache_hits = 0\n",
        "        self.cache_misses = 0\n",
        "\n",
        "    def num_docs(self):\n",
        "        \"\"\"\n",
        "        Returns the total number of indexed documents.\n",
        "        \"\"\"\n",
        "        return self.stats['num_docs']\n",
        "\n",
        "    def get_posting(self, term):\n",
        "        \"\"\"\n",
        "        Returns a PostingListIterator for the given term ID.\n",
        "        \"\"\"\n",
        "        # Check cache first\n",
        "        if term in self.cache:\n",
        "            self.cache_hits += 1\n",
        "            self.cache.move_to_end(term)            # Move the term to the end of the cache to mark it as recently used\n",
        "            docids, freqs = self.cache[term]\n",
        "        else:\n",
        "            # Handle Out-Of-Vocabulary\n",
        "            if term not in self.lexicon:\n",
        "                print(f\"Term '{term}' not found in lexicon.\")\n",
        "                return DiskInvertedIndex.PostingListIterator([], [], self.doc)\n",
        "\n",
        "            self.cache_misses += 1\n",
        "\n",
        "            offset, length = self.lexicon[term][3], self.lexicon[term][4]\n",
        "            comp_posting_list = self.inv[offset:offset+length]\n",
        "            docids, freqs = decompress_posting_list(comp_posting_list)\n",
        "\n",
        "            self.cache[term] = (docids, freqs)  # Store in cache\n",
        "            if len(self.cache) > self.cache_size:\n",
        "                # Remove the oldest entry from the cache\n",
        "                self.cache.popitem(last=False)\n",
        "\n",
        "        return DiskInvertedIndex.PostingListIterator(docids, freqs, self.doc)\n",
        "\n",
        "    def get_postings(self, terms):\n",
        "        \"\"\"\n",
        "        Returns a list of PostingListIterators for the given term IDs.\n",
        "        \"\"\"\n",
        "        return [self.get_posting(term) for term in terms]\n",
        "\n",
        "    # Utility functions for the cache\n",
        "    def print_cache_stats(self):\n",
        "        \"\"\"\n",
        "        Prints the cache hit and miss rates.\n",
        "        \"\"\"\n",
        "        print(f\"Cache hits: {self.cache_hits}\")\n",
        "        print(f\"Cache misses: {self.cache_misses}\")\n",
        "        total = self.cache_hits + self.cache_misses\n",
        "        if total > 0:\n",
        "            hit_rate = 100 * self.cache_hits / total\n",
        "            print(f\"Hit rate: {hit_rate:.2f}%\")\n",
        "\n",
        "    def reset_cache_stats(self, clear_cache=False):\n",
        "        \"\"\"\n",
        "        Resets the cache statistics.\n",
        "        If clear_cache is True, also clears the cache.\n",
        "        \"\"\"\n",
        "        self.cache_hits = 0\n",
        "        self.cache_misses = 0\n",
        "        if clear_cache:\n",
        "            self.cache.clear()\n",
        "            gc.collect()"
      ]
    },
    {
      "cell_type": "code",
      "execution_count": null,
      "metadata": {
        "id": "rbUUyI2mMoUg"
      },
      "outputs": [],
      "source": [
        "disk_inv_index = DiskInvertedIndex(lex, \"merged_index.msgpack\", doc, stats)"
      ]
    },
    {
      "cell_type": "markdown",
      "metadata": {
        "id": "5r7HclIVKTbj"
      },
      "source": [
        "---"
      ]
    },
    {
      "cell_type": "markdown",
      "metadata": {
        "id": "RltlC0r_TNtW"
      },
      "source": [
        "## 4. **Query Processing**\n",
        "\n",
        "We now evaluate BM25 and TF-IDF retrieval models on MS MARCO Passage and TREC-DL 2020 using two strategies:\n",
        "- **DAAT (Document-At-A-Time)**: advance all term iterators in parallel, scoring one document at a time with efficient skipping and early termination.  \n",
        "- **TAAT (Term-At-A-Time)**: process each term’s postings sequentially, accumulating scores per document before extracting the top results.  \n"
      ]
    },
    {
      "cell_type": "code",
      "execution_count": null,
      "metadata": {
        "id": "tKdmqfpTTPwk"
      },
      "outputs": [],
      "source": [
        "trec_dl_2020 = ir_datasets.load(\"msmarco-passage/trec-dl-2020\")"
      ]
    },
    {
      "cell_type": "markdown",
      "metadata": {
        "id": "R9bRN7dXmUYk"
      },
      "source": [
        "### 4.1 **Helpers**"
      ]
    },
    {
      "cell_type": "code",
      "execution_count": null,
      "metadata": {
        "id": "raah4RBpUOjb"
      },
      "outputs": [],
      "source": [
        "class TopQueue:\n",
        "    \"\"\"\n",
        "    A simple top-k priority queue to maintain the top-scoring items.\n",
        "\n",
        "    This class uses a min-heap to efficiently store and retrieve the top-k\n",
        "    items based on their scores. Items are tuples of (score, docid).\n",
        "\n",
        "    Attributes:\n",
        "        queue (list[tuple[float, int]]): The priority queue storing (score, docid) pairs.\n",
        "        k (int): The maximum number of items to maintain in the queue.\n",
        "        threshold (float): The minimum score required for an item to enter the queue.\n",
        "    \"\"\"\n",
        "\n",
        "    def __init__(self, k=10, threshold=0.0):\n",
        "        \"\"\"\n",
        "        Initializes the TopQueue with a maximum size and an optional threshold.\n",
        "        \"\"\"\n",
        "        self.queue = []                     # Initialize an empty priority queue (min-heap)\n",
        "        self.k = k                          # Maximum number of items to store\n",
        "        self.threshold = threshold          # Initial score threshold\n",
        "\n",
        "    def size(self):\n",
        "        \"\"\"\n",
        "        Returns the current number of items in the queue.\n",
        "        \"\"\"\n",
        "        return len(self.queue)\n",
        "\n",
        "    def would_enter(self, score):\n",
        "        \"\"\"\n",
        "        Checks if a given score exceeds the current threshold and could enter the queue.\n",
        "        \"\"\"\n",
        "        return score > self.threshold\n",
        "\n",
        "    def clear(self, new_threshold=None):\n",
        "        \"\"\"\n",
        "        Clears all items from the queue and optionally sets a new threshold.\n",
        "        \"\"\"\n",
        "        self.queue = []                     # Empty the queue\n",
        "        if new_threshold is not None:\n",
        "            self.threshold = new_threshold  # Update the threshold if provided\n",
        "\n",
        "    def __repr__(self):\n",
        "        \"\"\"\n",
        "        Returns a string representation of the queue.\n",
        "        \"\"\"\n",
        "        return f'<{self.size()} items, th={self.threshold} {self.queue}>'\n",
        "\n",
        "    def insert(self, docid, score):\n",
        "        \"\"\"\n",
        "        Inserts an item into the priority queue if it meets the threshold\n",
        "        \"\"\"\n",
        "        if not self.would_enter(score):\n",
        "            return False                  # The score is too low to be added to the heap\n",
        "\n",
        "        # Adds the query ID along with the score and document ID\n",
        "        if self.size() < self.k:\n",
        "            heapq.heappush(self.queue, (score, docid))\n",
        "        else:\n",
        "            heapq.heapreplace(self.queue, (score, docid))\n",
        "\n",
        "        # Updates the threshold only if the queue contains at least `k` elements\n",
        "        if self.size() >= self.k:\n",
        "            self.threshold = max(self.threshold, self.queue[0][0])\n",
        "\n",
        "        return True\n",
        "\n",
        "    def sort_descending(self):\n",
        "        \"\"\"\n",
        "        Sorts the queue by score in descending order\n",
        "        \"\"\"\n",
        "        self.queue = sorted(self.queue, key=lambda x: x[0], reverse=True)\n",
        "        return self.queue"
      ]
    },
    {
      "cell_type": "code",
      "execution_count": null,
      "metadata": {
        "id": "4McsRC1JmXfg"
      },
      "outputs": [],
      "source": [
        "def min_docid(posting_lists):\n",
        "    \"\"\"\n",
        "    Find the smallest document ID among active posting list iterators.\n",
        "\n",
        "    Args:\n",
        "        posting_lists (list[PostingListIterator]): Posting list iterators.\n",
        "\n",
        "    Returns:\n",
        "        int: The smallest document ID or math.inf if all lists are exhausted.\n",
        "    \"\"\"\n",
        "\n",
        "    min_docid = math.inf\n",
        "    for p in posting_lists:\n",
        "        if not p.is_end_list():     # Skip completed lists\n",
        "            min_docid = min(p.docid(), min_docid)\n",
        "    return min_docid"
      ]
    },
    {
      "cell_type": "markdown",
      "metadata": {
        "id": "Hlb0VtQBmh7Y"
      },
      "source": [
        "### 4.2 **Scoring functions**"
      ]
    },
    {
      "cell_type": "markdown",
      "metadata": {
        "id": "JGS5XVpymich"
      },
      "source": [
        "#### 4.2.1 **BM25**\n",
        "\n",
        "The Okapi BM25 score for a term $t$ in document $d$ is computed as:\n",
        "\n",
        "$$\n",
        "\\mathrm{BM25}(t,d) = \\mathrm{IDF}(t)\\;\\times\\;\n",
        "\\frac{(k_1 + 1)\\,f_{t,d}}{K + f_{t,d}}\n",
        "$$\n",
        "\n",
        "where:\n",
        "\n",
        "- $f_{t,d}$ is the term frequency of $t$ in $d$.\n",
        "- $k_1$ and $b$ are hyperparameters (here set to $k_1=0.9$, $b=0.4$).  \n",
        "\n",
        "The auxiliary terms are:\n",
        "\n",
        "$$\n",
        "\\mathrm{IDF}(t) = \\log\\!\\Bigl(1 + \\frac{N - n_t + 0.5}{n_t + 0.5}\\Bigr)\\,\\times\\,\\log_2 e,\n",
        "\\quad\n",
        "K = k_1\\Bigl((1 - b) + b\\,\\tfrac{|d|}{\\mathrm{avgdl}}\\Bigr),\n",
        "$$\n",
        "\n",
        "with:\n",
        "\n",
        "- $N$ the total number of documents,  \n",
        "- $n_t$ the number of documents containing term $t$,  \n",
        "- $|d|$ is the length of $d$ (in tokens),\n",
        "- $\\mathrm{avgdl}$ is the average document length in the collection,\n",
        "- $\\log_2 e$ a constant conversion factor from natural‐log to log‐base‐2."
      ]
    },
    {
      "cell_type": "code",
      "execution_count": null,
      "metadata": {
        "id": "kS512pEKmkFB"
      },
      "outputs": [],
      "source": [
        "LOG_E_OF_2 = math.log(2)        # Natural logarithm of 2 for base conversion\n",
        "LOG_2_OF_E = 1 / LOG_E_OF_2     # Conversion factor for log base-e to base-2\n",
        "\n",
        "# Compute average document length and total number of documents from the index\n",
        "AVG_DL = disk_inv_index.stats['num_tokens'] / disk_inv_index.stats['num_docs']\n",
        "N = disk_inv_index.stats['num_docs']"
      ]
    },
    {
      "cell_type": "code",
      "execution_count": null,
      "metadata": {
        "id": "YjlhCUZkmnpL"
      },
      "outputs": [],
      "source": [
        "def bm25(tf, df, dl, k1=0.9, b=0.4):\n",
        "    \"\"\"\n",
        "    Compute the BM25 relevance score for a term in a document.\n",
        "\n",
        "    Args:\n",
        "        tf (int):   Term frequency, the count of the term in the document.\n",
        "        df (int):   Document frequency, the number of documents containing the term.\n",
        "        dl (float): Document length, the number of tokens in the document.\n",
        "        k1 (float): Parameter controlling term frequency saturation.\n",
        "        b (float):  Parameter controlling document length normalization.\n",
        "\n",
        "    Returns:\n",
        "        float: The BM25 score for the term in the document with respect to the query.\n",
        "    \"\"\"\n",
        "    idf = math.log(1 + (N - df + 0.5) / (df + 0.5)) * LOG_2_OF_E                # IDF weighting\n",
        "    K = k1 * ((1 - b) + b * (dl / AVG_DL))                                      # Document length adjustment\n",
        "    term_frequency_component = ((k1 + 1) * tf) / (K + tf)                       # TF component\n",
        "    return idf * term_frequency_component"
      ]
    },
    {
      "cell_type": "code",
      "execution_count": null,
      "metadata": {
        "id": "FSeZp2dgmrJT"
      },
      "outputs": [],
      "source": [
        "def bm25_score(tf, df, dl):\n",
        "    \"\"\"\n",
        "    Wrapper function for BM25 score calculation.\n",
        "    Args:\n",
        "        tf (int):   Term frequency, the count of the term in the document.\n",
        "        df (int):   Document frequency, the number of documents containing the term.\n",
        "        dl (float): Document length, the number of tokens in the document.\n",
        "    Returns:\n",
        "        float: The BM25 score for the term in the document.\n",
        "    \"\"\"\n",
        "    return bm25(tf, df, dl)"
      ]
    },
    {
      "cell_type": "markdown",
      "metadata": {
        "id": "SroYXzskmsZS"
      },
      "source": [
        "#### 4.2.2 **TF-IDF**\n",
        "\n",
        "The classic TF-IDF weight for term $t$ in document $d$ is given by:\n",
        "\n",
        "$$\n",
        "\\mathrm{TFIDF}(t,d) = \\mathrm{tf}(t,d)\\;\\times\\;\\mathrm{IDF}(t)\n",
        "$$\n",
        "\n",
        "where:\n",
        "\n",
        "- $\\mathrm{tf}(t,d)$ is typically the raw term frequency of $t$ in $d$, or a normalized variant such as $\\log(1 + f_{t,d})$.  \n",
        "- $\\mathrm{IDF}(t)$ is defined as  \n",
        "$$\n",
        "\\mathrm{IDF}(t) = \\log\\!\\Bigl(\\frac{N}{n_t}\\Bigr),\n",
        "$$  \n",
        "with $N$ the total number of documents and $n_t$ the number of documents containing $t$.  \n",
        "\n",
        "This weighting scheme increases with the term’s frequency in the document and decreases with its frequency across the collection, highlighting terms that are both frequent in a document and rare in the corpus.  \n"
      ]
    },
    {
      "cell_type": "code",
      "execution_count": null,
      "metadata": {
        "id": "SK9y50ywmu1I"
      },
      "outputs": [],
      "source": [
        "N = disk_inv_index.stats['num_docs']"
      ]
    },
    {
      "cell_type": "code",
      "execution_count": null,
      "metadata": {
        "id": "66UxLtNgmwqN"
      },
      "outputs": [],
      "source": [
        "def tfidf(tf, df):\n",
        "    \"\"\"\n",
        "    Compute the TF-IDF score for a term in a document.\n",
        "\n",
        "    Args:\n",
        "        tf (int): Term frequency, i.e., the number of times the term appears in the document.\n",
        "        df (int): Document frequency, i.e., the number of documents containing the term.\n",
        "\n",
        "    Returns:\n",
        "        float: The TF-IDF score for the term in the document.\n",
        "    \"\"\"\n",
        "    if tf <= 0 or df <= 0:\n",
        "        return 0.0\n",
        "\n",
        "    tf_weight = 1.0 + math.log(tf, 2)     # Compute term frequency weight: 1 + log2(tf)\n",
        "    idf_weight = math.log(N / df, 2)      # Compute inverse document frequency: log2(N / df)\n",
        "    return tf_weight * idf_weight"
      ]
    },
    {
      "cell_type": "code",
      "execution_count": null,
      "metadata": {
        "id": "vWMlqjH_myRV"
      },
      "outputs": [],
      "source": [
        "def tfidf_score(tf, df, dl):\n",
        "    \"\"\"\n",
        "    Wrapper function for TF-IDF score calculation.\n",
        "    Args:\n",
        "        tf (int): Term frequency, i.e., the number of times the term appears in the document.\n",
        "        df (int): Document frequency, i.e., the number of documents containing the term.\n",
        "        dl (int): Document length, not used in TF-IDF but included for consistency.\n",
        "    Returns:\n",
        "        float: The TF-IDF score for the term in the document.\n",
        "    \"\"\"\n",
        "    return tfidf(tf, df)"
      ]
    },
    {
      "cell_type": "markdown",
      "metadata": {
        "id": "6b7zFriimtx0"
      },
      "source": [
        "### 4.3 **Retrieval strategies**"
      ]
    },
    {
      "cell_type": "markdown",
      "metadata": {
        "id": "b5gOMw7dm2MF"
      },
      "source": [
        "#### 4.3.1 **DAAT**"
      ]
    },
    {
      "cell_type": "code",
      "execution_count": null,
      "metadata": {
        "id": "f3ile6e3m4GF"
      },
      "outputs": [],
      "source": [
        "def daat(posting_lists, score_function, k=10):\n",
        "    \"\"\"\n",
        "    Perform Document-At-A-Time (DAAT) retrieval with BM25 scoring.\n",
        "\n",
        "    Args:\n",
        "        posting_lists (list[PostingListIterator]): Posting lists for terms.\n",
        "        k (int): Number of top results to retrieve.\n",
        "\n",
        "    Returns:\n",
        "        list[tuple[int, float]]: Top-k (docid, score) pairs sorted by score.\n",
        "    \"\"\"\n",
        "\n",
        "    top = TopQueue(k)                                 # Initialize top-k priority queue\n",
        "    current_docid = min_docid(posting_lists)          # Start with the smallest document ID\n",
        "\n",
        "    # Process documents until all posting lists are exhausted\n",
        "    while current_docid != math.inf:\n",
        "        score = 0\n",
        "        next_docid = math.inf\n",
        "\n",
        "        for post_list in posting_lists:\n",
        "            # Check if the term is in the current doc\n",
        "            if post_list.docid() == current_docid:\n",
        "                tf = post_list.freqs[post_list.pos]\n",
        "                df = post_list.len()\n",
        "                dl = disk_inv_index.doc[current_docid]\n",
        "\n",
        "                score += score_function(tf, df, dl)   # Compute the score for the current term in the document\n",
        "\n",
        "                post_list.next()                      # Move to the next term occurrence\n",
        "\n",
        "            # Update the smallest doc ID for next iteration\n",
        "            if not post_list.is_end_list():\n",
        "                next_docid = min(next_docid, post_list.docid())\n",
        "\n",
        "        top.insert(current_docid, score)              # Add the current doc to the top-k queue\n",
        "        current_docid = next_docid                    # Move to the next document\n",
        "\n",
        "    return sorted(top.queue, reverse=True)"
      ]
    },
    {
      "cell_type": "markdown",
      "metadata": {
        "id": "ipysqolMm3sn"
      },
      "source": [
        "#### 4.3.2 **TAAT**"
      ]
    },
    {
      "cell_type": "code",
      "execution_count": null,
      "metadata": {
        "id": "7D-SXVFSm8B3"
      },
      "outputs": [],
      "source": [
        "def taat(postings, scoring_function, k=10):\n",
        "    \"\"\"\n",
        "    Perform Term-At-A-Time (TAAT) retrieval with BM25 scoring.\n",
        "\n",
        "    Args:\n",
        "        postings (list[PostingListIterator]): A list of posting list iterators, one for each query term.\n",
        "        k (int): The maximum number of top documents to retrieve. Default is 10.\n",
        "\n",
        "    Returns:\n",
        "        list[tuple[int, float]]: A sorted list of (docid, score) tuples, ordered by score in descending order.\n",
        "    \"\"\"\n",
        "    A = defaultdict(float)                             # Accumulator for document scores\n",
        "\n",
        "    # Process one term's posting list at a time\n",
        "    for posting in postings:\n",
        "        current_docid = posting.docid()\n",
        "        df = posting.len()                             # Document frequency for the current term\n",
        "\n",
        "        while current_docid != math.inf:\n",
        "            tf = posting.freqs[posting.pos]            # Term frequency in the current document\n",
        "            dl = disk_inv_index.doc[current_docid]     # Length of the current document\n",
        "\n",
        "            score = scoring_function(tf, df, dl)       # Compute score for the term-document pair\n",
        "            A[current_docid] += score\n",
        "\n",
        "            posting.next()\n",
        "            current_docid = posting.docid()\n",
        "\n",
        "    top = TopQueue(k)\n",
        "\n",
        "    # Insert all documents and their scores into the top-k queue\n",
        "    for docid, score in A.items():\n",
        "        top.insert(docid, score)\n",
        "\n",
        "    return sorted(top.queue, reverse=True)"
      ]
    },
    {
      "cell_type": "markdown",
      "metadata": {
        "id": "vThLhN8hm-Ot"
      },
      "source": [
        "---"
      ]
    },
    {
      "cell_type": "markdown",
      "metadata": {
        "id": "O_itEXd9m_eG"
      },
      "source": [
        "## 5. **Performance Comparison**"
      ]
    },
    {
      "cell_type": "markdown",
      "metadata": {
        "id": "ZGQpYZcunAdy"
      },
      "source": [
        "### 5.1 **Query Processing Loop**\n"
      ]
    },
    {
      "cell_type": "code",
      "execution_count": null,
      "metadata": {
        "id": "CaLOyg4XnC4v"
      },
      "outputs": [],
      "source": [
        "@profile\n",
        "def disk_query_processing(queries_iter, retrieval_fn, score_fn):\n",
        "    res = []\n",
        "    queries = list(queries_iter)\n",
        "    retrieving_time = 0.0\n",
        "    scoring_time = 0.0\n",
        "\n",
        "    for q in tqdm(queries, desc=\"Processing queries\", unit=\"query\"):\n",
        "        query_tokens = preprocess(q.text)\n",
        "\n",
        "        start = time.time()\n",
        "\n",
        "        postings = disk_inv_index.get_postings(query_tokens)    # Retrieve posting lists for the terms\n",
        "\n",
        "        retrieving_time += time.time() - start\n",
        "        start = time.time()\n",
        "\n",
        "        # Compute scores using the provided scoring function and store the result\n",
        "        scores = retrieval_fn(postings, score_fn)\n",
        "        res.append({'query_id': q.query_id, 'scores': scores})\n",
        "\n",
        "        scoring_time += time.time() - start\n",
        "\n",
        "    print(f\"Average retrieval time: {retrieving_time / len(queries):.2f} seconds\")\n",
        "    print(f\"Average scoring time: {scoring_time / len(queries):.2f} seconds\")\n",
        "    return res"
      ]
    },
    {
      "cell_type": "markdown",
      "metadata": {
        "id": "c8MPSr6onCTt"
      },
      "source": [
        "#### 5.1.1 **DAAT retrieval using BM25**"
      ]
    },
    {
      "cell_type": "code",
      "execution_count": null,
      "metadata": {
        "colab": {
          "base_uri": "https://localhost:8080/",
          "height": 212,
          "referenced_widgets": [
            "fd081b0f98624b7ab58091a7b6eb8d8a",
            "855fe67ca136422ebccf0ab3db050c2c",
            "5482cc0d06e64d479a524ee5ec6c61e5",
            "f2323a47b45f4573ac6f2b795bffe1f9",
            "b821da4ca5b54a2499b48309cebf0d35",
            "f4df919e5954483eaa578848427d5e5a",
            "b42bf1bf0b7b4759840adb792ccefed1",
            "8ee61f3c662d4bde81ef20124e90994f",
            "5c13a5fc3bed4ef29c00bc74eabf32b4",
            "93a9e92088634b678f5ee579cf3edfed",
            "e094a287d39d434db6a9ee7d4053d452"
          ]
        },
        "id": "VrbnKqVSnGo8",
        "outputId": "d2f13280-6701-4d53-a4e8-7d96ab5ac59c"
      },
      "outputs": [
        {
          "output_type": "stream",
          "name": "stderr",
          "text": [
            "[INFO] Please confirm you agree to the MSMARCO data usage agreement found at <http://www.msmarco.org/dataset.aspx>\n",
            "[INFO] [starting] https://msmarco.z22.web.core.windows.net/msmarcoranking/msmarco-test2020-queries.tsv.gz\n",
            "[INFO] [finished] https://msmarco.z22.web.core.windows.net/msmarcoranking/msmarco-test2020-queries.tsv.gz: [00:00] [4.13kB] [18.7MB/s]\n"
          ]
        },
        {
          "output_type": "display_data",
          "data": {
            "text/plain": [
              "Processing queries:   0%|          | 0/200 [00:00<?, ?query/s]"
            ],
            "application/vnd.jupyter.widget-view+json": {
              "version_major": 2,
              "version_minor": 0,
              "model_id": "fd081b0f98624b7ab58091a7b6eb8d8a"
            }
          },
          "metadata": {}
        },
        {
          "output_type": "stream",
          "name": "stdout",
          "text": [
            "Average retrieval time: 0.09 seconds\n",
            "Average scoring time: 3.58 seconds\n",
            "disk_query_processing (736117.916 ms)\n",
            "Cache hits: 164\n",
            "Cache misses: 530\n",
            "Hit rate: 23.63%\n"
          ]
        }
      ],
      "source": [
        "disk_inv_index.reset_cache_stats(True)\n",
        "daat_bm25_results = disk_query_processing(\n",
        "    queries_iter=trec_dl_2020.queries_iter(),\n",
        "    retrieval_fn=daat,\n",
        "    score_fn=bm25_score\n",
        ")\n",
        "disk_inv_index.print_cache_stats()"
      ]
    },
    {
      "cell_type": "markdown",
      "metadata": {
        "id": "qOVtdgaWnG8p"
      },
      "source": [
        "#### 5.1.2 **TAAT retrieval using BM25**"
      ]
    },
    {
      "cell_type": "code",
      "execution_count": null,
      "metadata": {
        "colab": {
          "base_uri": "https://localhost:8080/",
          "height": 158,
          "referenced_widgets": [
            "15da16a7cfdf4bd1a69e52f42eab45f6",
            "61cef4f1791c4000bf148b1f27879899",
            "7813df7297f04b728f1c52926bc37c51",
            "2d5c7493ea9d4a6fac6ab6e3b6ed747c",
            "320568aa5cb84462a7e229ffc1cf360e",
            "c93d1ffac1e94da482e0edda3ff18b5b",
            "58b0ed052d2b450eaf9488db427f1f79",
            "6cf08bb5982e49c88a40bbefa35e4aa5",
            "3535af6c4a3641c2abb2644ef8251dba",
            "96665c474d404c3f9956a79d1438f2b4",
            "a8c82e3498644121b0f82978fcc543e4"
          ]
        },
        "id": "h9_d3vu6nHSX",
        "outputId": "c7c11b1a-8634-4c7f-c4e8-c10be4fb90f1"
      },
      "outputs": [
        {
          "output_type": "display_data",
          "data": {
            "text/plain": [
              "Processing queries:   0%|          | 0/200 [00:00<?, ?query/s]"
            ],
            "application/vnd.jupyter.widget-view+json": {
              "version_major": 2,
              "version_minor": 0,
              "model_id": "15da16a7cfdf4bd1a69e52f42eab45f6"
            }
          },
          "metadata": {}
        },
        {
          "output_type": "stream",
          "name": "stdout",
          "text": [
            "Average retrieval time: 0.09 seconds\n",
            "Average scoring time: 2.33 seconds\n",
            "disk_query_processing (485142.463 ms)\n",
            "Cache hits: 164\n",
            "Cache misses: 530\n",
            "Hit rate: 23.63%\n"
          ]
        }
      ],
      "source": [
        "disk_inv_index.reset_cache_stats(True)\n",
        "taat_bm25_results = disk_query_processing(\n",
        "    queries_iter=trec_dl_2020.queries_iter(),\n",
        "    retrieval_fn=taat,\n",
        "    score_fn=bm25_score\n",
        ")\n",
        "disk_inv_index.print_cache_stats()"
      ]
    },
    {
      "cell_type": "markdown",
      "metadata": {
        "id": "PU0xxaEJnHfv"
      },
      "source": [
        "#### 5.1.3 **DAAT retrieval using TF-IDF**"
      ]
    },
    {
      "cell_type": "code",
      "execution_count": null,
      "metadata": {
        "colab": {
          "base_uri": "https://localhost:8080/",
          "height": 158,
          "referenced_widgets": [
            "f838b799ff4f4eb59caadf3d71d69254",
            "a97c8e2105904762a21845b6e4217c74",
            "704b2e2276ac46fc826c7c25093c50d0",
            "91f88bc0816a453099e3ea2ec5f29435",
            "fea52e33e01549ec854b5ee3fe670318",
            "a68aa9412b9a43aba9402b35a0797ab5",
            "0168ff4de9e2465190e68e21d249a77a",
            "3540adc753084555a2536b9e99f90394",
            "ae34c1dcbf244f16bf5868b120994273",
            "bad0bde81f4944a497fc13e34d7064d6",
            "7ffb126112344aadae26589a953fb82a"
          ]
        },
        "id": "ptEJkPQWnH0d",
        "outputId": "d5dbf361-aca7-4196-c795-c31dc94a78ec"
      },
      "outputs": [
        {
          "output_type": "display_data",
          "data": {
            "text/plain": [
              "Processing queries:   0%|          | 0/200 [00:00<?, ?query/s]"
            ],
            "application/vnd.jupyter.widget-view+json": {
              "version_major": 2,
              "version_minor": 0,
              "model_id": "f838b799ff4f4eb59caadf3d71d69254"
            }
          },
          "metadata": {}
        },
        {
          "output_type": "stream",
          "name": "stdout",
          "text": [
            "Average retrieval time: 0.10 seconds\n",
            "Average scoring time: 2.10 seconds\n",
            "disk_query_processing (440971.473 ms)\n",
            "Cache hits: 164\n",
            "Cache misses: 530\n",
            "Hit rate: 23.63%\n"
          ]
        }
      ],
      "source": [
        "disk_inv_index.reset_cache_stats(True)\n",
        "daat_tfidf_results = disk_query_processing(\n",
        "    queries_iter=trec_dl_2020.queries_iter(),\n",
        "    retrieval_fn=daat,\n",
        "    score_fn=tfidf_score\n",
        ")\n",
        "disk_inv_index.print_cache_stats()"
      ]
    },
    {
      "cell_type": "markdown",
      "metadata": {
        "id": "w_yXzhXfnIJU"
      },
      "source": [
        "#### 5.1.4 **TAAT retrieval using TF-IDF**"
      ]
    },
    {
      "cell_type": "code",
      "execution_count": null,
      "metadata": {
        "colab": {
          "base_uri": "https://localhost:8080/",
          "height": 158,
          "referenced_widgets": [
            "6e744dc0e4844b6b966f2ecb5aeb5a7a",
            "34af040b998d44cc9bec6467f0d95453",
            "8744ab52b98b46759fc27b0cf5a038ba",
            "c25934ad591344b08a63e34fa93cc23c",
            "4651b24f610b443e8aff0f0e969e34f7",
            "01ac0ad6dfbe4416b07f69bd5f34b541",
            "c1b16497a4764d62bb67cff90b2c2bfb",
            "5ab0c4d4afec4d2789b7bb18e15da217",
            "12f7e1eafee94572b34ed745e01a4f0e",
            "291d17f63efa4b6b8a04e7af9f30fd1b",
            "55fdff6a62604e0584ae247bc76a846e"
          ]
        },
        "id": "spzRk_DcnIcq",
        "outputId": "33352939-5fed-49d3-a717-af2f55d25afb"
      },
      "outputs": [
        {
          "output_type": "display_data",
          "data": {
            "text/plain": [
              "Processing queries:   0%|          | 0/200 [00:00<?, ?query/s]"
            ],
            "application/vnd.jupyter.widget-view+json": {
              "version_major": 2,
              "version_minor": 0,
              "model_id": "6e744dc0e4844b6b966f2ecb5aeb5a7a"
            }
          },
          "metadata": {}
        },
        {
          "output_type": "stream",
          "name": "stdout",
          "text": [
            "Average retrieval time: 0.09 seconds\n",
            "Average scoring time: 0.91 seconds\n",
            "disk_query_processing (200952.685 ms)\n",
            "Cache hits: 164\n",
            "Cache misses: 530\n",
            "Hit rate: 23.63%\n"
          ]
        }
      ],
      "source": [
        "disk_inv_index.reset_cache_stats(True)\n",
        "taat_tfidf_results = disk_query_processing(\n",
        "    queries_iter=trec_dl_2020.queries_iter(),\n",
        "    retrieval_fn=taat,\n",
        "    score_fn=tfidf_score\n",
        ")\n",
        "disk_inv_index.print_cache_stats()"
      ]
    },
    {
      "cell_type": "markdown",
      "metadata": {
        "id": "_0udFQSynTXl"
      },
      "source": [
        "### 5.2 **TREC Run File Generation**"
      ]
    },
    {
      "cell_type": "code",
      "execution_count": null,
      "metadata": {
        "id": "Cyh5DlNbnU8s"
      },
      "outputs": [],
      "source": [
        "def generate_run(results):\n",
        "    \"\"\"\n",
        "    Generate a TREC-formatted run list from query results.\n",
        "\n",
        "    Args:\n",
        "        results (list[dict]): A list of query results, where each result contains:\n",
        "            - `query_id` (int): The ID of the query.\n",
        "            - `scores` (list[tuple[float, int]]): A list of (score, doc_id) tuples.\n",
        "\n",
        "    Returns:\n",
        "        list[str]: A list of strings formatted in TREC run format.\n",
        "    \"\"\"\n",
        "\n",
        "    trec_run_list = []                      # List to store TREC-formatted lines\n",
        "\n",
        "    for doc_scores in results:              # Iterate over each query result\n",
        "        rank = 1\n",
        "        query_id = doc_scores['query_id']\n",
        "        scores = doc_scores['scores']\n",
        "\n",
        "        for score, doc_id in scores:\n",
        "            # Format the result as a TREC-compliant line\n",
        "            line = f\"{query_id} Q0 {doc_id} {rank} {score} DUMB_AND_DUMBER\"\n",
        "            trec_run_list.append(line)\n",
        "            rank += 1\n",
        "\n",
        "    return trec_run_list"
      ]
    },
    {
      "cell_type": "markdown",
      "metadata": {
        "id": "bW2HSqVHnWR6"
      },
      "source": [
        "Generate and save TREC-formatted run lists for results:\n"
      ]
    },
    {
      "cell_type": "code",
      "execution_count": null,
      "metadata": {
        "id": "aOa5gWALnXjT"
      },
      "outputs": [],
      "source": [
        "# BM25 run\n",
        "bm25_run = generate_run(daat_bm25_results)\n",
        "with open(\"trec_dl_2020_bm25_run.txt\", \"w\") as f:\n",
        "    f.write(\"\\n\".join(bm25_run) + \"\\n\")"
      ]
    },
    {
      "cell_type": "code",
      "execution_count": null,
      "metadata": {
        "id": "dT-XX_DNnX6A"
      },
      "outputs": [],
      "source": [
        "# TF-IDF run\n",
        "tfidf_run = generate_run(daat_tfidf_results)\n",
        "with open(\"trec_dl_2020_tfidf_run.txt\", \"w\") as f:\n",
        "    f.write(\"\\n\".join(tfidf_run) + \"\\n\")"
      ]
    },
    {
      "cell_type": "markdown",
      "metadata": {
        "id": "i_-MdvRrndGQ"
      },
      "source": [
        "### 5.3 **Qrels File Creation**"
      ]
    },
    {
      "cell_type": "code",
      "execution_count": null,
      "metadata": {
        "colab": {
          "base_uri": "https://localhost:8080/"
        },
        "id": "qIGrSry4ndtg",
        "outputId": "4a84435e-3274-4b25-afe9-f3f58b662edb"
      },
      "outputs": [
        {
          "output_type": "stream",
          "name": "stderr",
          "text": [
            "[INFO] [starting] https://trec.nist.gov/data/deep/2020qrels-pass.txt\n",
            "[INFO] [finished] https://trec.nist.gov/data/deep/2020qrels-pass.txt: [00:00] [219kB] [3.99MB/s]\n"
          ]
        }
      ],
      "source": [
        "qrels_file = []     # List to store lines formatted for TREC-eval qrels\n",
        "\n",
        "# Iterate over qrels data provided by the TREC DL 2020 dataset\n",
        "for qrel in trec_dl_2020.qrels_iter():\n",
        "    # Format the qrel information as per TREC-Eval requirements `<query_id> 0 <doc_id> <relevance>`\n",
        "    line = f\"{qrel.query_id} 0 {qrel.doc_id} {qrel.relevance}\"\n",
        "    qrels_file.append(line)\n",
        "\n",
        "# Write the qrels list to a file in TREC-Eval compatible format\n",
        "with open(\"trec_dl_2020_qrels_file.txt\", \"w\") as f:\n",
        "    for line in qrels_file:\n",
        "        f.write(line + \"\\n\")"
      ]
    },
    {
      "cell_type": "markdown",
      "metadata": {
        "id": "3-zZ44ROngnv"
      },
      "source": [
        "### 5.4 **Evaluation & Results**"
      ]
    },
    {
      "cell_type": "code",
      "execution_count": null,
      "metadata": {
        "id": "zc73j5y2nf10"
      },
      "outputs": [],
      "source": [
        "# Define evaluation measures for the retrieval models\n",
        "measures = [\n",
        "    P@5,              # Precision at rank 5\n",
        "    P(rel=2)@5,       # Precision at rank 5, considering relevance level >= 2\n",
        "    nDCG@10,          # Normalized Discounted Cumulative Gain at rank 10\n",
        "    AP,               # Average Precision\n",
        "    AP(rel=2),        # Average Precision, considering relevance level >= 2\n",
        "    Bpref,            # Binary preference\n",
        "    Bpref(rel=2),     # Binary preference, considering relevance level >= 2\n",
        "    Judged@10         # Fraction of top 10 documents that were judged\n",
        "]"
      ]
    },
    {
      "cell_type": "markdown",
      "metadata": {
        "id": "UUkWSyqjnjIs"
      },
      "source": [
        "Evaluate results using the defined measures:"
      ]
    },
    {
      "cell_type": "code",
      "execution_count": null,
      "metadata": {
        "id": "mT2xLD-bnjik"
      },
      "outputs": [],
      "source": [
        "# BM25 results\n",
        "qrels = ir_measures.read_trec_qrels('trec_dl_2020_qrels_file.txt')\n",
        "bm25_run_measures = ir_measures.read_trec_run('trec_dl_2020_bm25_run.txt')\n",
        "bm25_results = ir_measures.calc_aggregate(measures, qrels, bm25_run_measures)\n",
        "\n",
        "# TF-IDF results\n",
        "qrels = ir_measures.read_trec_qrels('trec_dl_2020_qrels_file.txt')\n",
        "tfidf_run_measures = ir_measures.read_trec_run('trec_dl_2020_tfidf_run.txt')\n",
        "tfidf_results = ir_measures.calc_aggregate(measures, qrels, tfidf_run_measures)"
      ]
    },
    {
      "cell_type": "code",
      "execution_count": null,
      "metadata": {
        "colab": {
          "base_uri": "https://localhost:8080/",
          "height": 300
        },
        "id": "CYTHlqAxnqY7",
        "outputId": "3ae8d63c-dc74-42e4-ec71-fc05bc6ba151"
      },
      "outputs": [
        {
          "output_type": "execute_result",
          "data": {
            "text/plain": [
              "        Measure      BM25    TF-IDF\n",
              "0           P@5  0.633333  0.470370\n",
              "1    P(rel=2)@5  0.429630  0.307407\n",
              "2       nDCG@10  0.505998  0.359736\n",
              "3            AP  0.143294  0.090617\n",
              "4     AP(rel=2)  0.188054  0.127845\n",
              "5         Bpref  0.156927  0.105486\n",
              "6  Bpref(rel=2)  0.204446  0.142784\n",
              "7     Judged@10  0.977778  0.837037"
            ],
            "text/html": [
              "\n",
              "  <div id=\"df-a50e1468-63ea-4b23-8fcb-873e703a5579\" class=\"colab-df-container\">\n",
              "    <div>\n",
              "<style scoped>\n",
              "    .dataframe tbody tr th:only-of-type {\n",
              "        vertical-align: middle;\n",
              "    }\n",
              "\n",
              "    .dataframe tbody tr th {\n",
              "        vertical-align: top;\n",
              "    }\n",
              "\n",
              "    .dataframe thead th {\n",
              "        text-align: right;\n",
              "    }\n",
              "</style>\n",
              "<table border=\"1\" class=\"dataframe\">\n",
              "  <thead>\n",
              "    <tr style=\"text-align: right;\">\n",
              "      <th></th>\n",
              "      <th>Measure</th>\n",
              "      <th>BM25</th>\n",
              "      <th>TF-IDF</th>\n",
              "    </tr>\n",
              "  </thead>\n",
              "  <tbody>\n",
              "    <tr>\n",
              "      <th>0</th>\n",
              "      <td>P@5</td>\n",
              "      <td>0.633333</td>\n",
              "      <td>0.470370</td>\n",
              "    </tr>\n",
              "    <tr>\n",
              "      <th>1</th>\n",
              "      <td>P(rel=2)@5</td>\n",
              "      <td>0.429630</td>\n",
              "      <td>0.307407</td>\n",
              "    </tr>\n",
              "    <tr>\n",
              "      <th>2</th>\n",
              "      <td>nDCG@10</td>\n",
              "      <td>0.505998</td>\n",
              "      <td>0.359736</td>\n",
              "    </tr>\n",
              "    <tr>\n",
              "      <th>3</th>\n",
              "      <td>AP</td>\n",
              "      <td>0.143294</td>\n",
              "      <td>0.090617</td>\n",
              "    </tr>\n",
              "    <tr>\n",
              "      <th>4</th>\n",
              "      <td>AP(rel=2)</td>\n",
              "      <td>0.188054</td>\n",
              "      <td>0.127845</td>\n",
              "    </tr>\n",
              "    <tr>\n",
              "      <th>5</th>\n",
              "      <td>Bpref</td>\n",
              "      <td>0.156927</td>\n",
              "      <td>0.105486</td>\n",
              "    </tr>\n",
              "    <tr>\n",
              "      <th>6</th>\n",
              "      <td>Bpref(rel=2)</td>\n",
              "      <td>0.204446</td>\n",
              "      <td>0.142784</td>\n",
              "    </tr>\n",
              "    <tr>\n",
              "      <th>7</th>\n",
              "      <td>Judged@10</td>\n",
              "      <td>0.977778</td>\n",
              "      <td>0.837037</td>\n",
              "    </tr>\n",
              "  </tbody>\n",
              "</table>\n",
              "</div>\n",
              "    <div class=\"colab-df-buttons\">\n",
              "\n",
              "  <div class=\"colab-df-container\">\n",
              "    <button class=\"colab-df-convert\" onclick=\"convertToInteractive('df-a50e1468-63ea-4b23-8fcb-873e703a5579')\"\n",
              "            title=\"Convert this dataframe to an interactive table.\"\n",
              "            style=\"display:none;\">\n",
              "\n",
              "  <svg xmlns=\"http://www.w3.org/2000/svg\" height=\"24px\" viewBox=\"0 -960 960 960\">\n",
              "    <path d=\"M120-120v-720h720v720H120Zm60-500h600v-160H180v160Zm220 220h160v-160H400v160Zm0 220h160v-160H400v160ZM180-400h160v-160H180v160Zm440 0h160v-160H620v160ZM180-180h160v-160H180v160Zm440 0h160v-160H620v160Z\"/>\n",
              "  </svg>\n",
              "    </button>\n",
              "\n",
              "  <style>\n",
              "    .colab-df-container {\n",
              "      display:flex;\n",
              "      gap: 12px;\n",
              "    }\n",
              "\n",
              "    .colab-df-convert {\n",
              "      background-color: #E8F0FE;\n",
              "      border: none;\n",
              "      border-radius: 50%;\n",
              "      cursor: pointer;\n",
              "      display: none;\n",
              "      fill: #1967D2;\n",
              "      height: 32px;\n",
              "      padding: 0 0 0 0;\n",
              "      width: 32px;\n",
              "    }\n",
              "\n",
              "    .colab-df-convert:hover {\n",
              "      background-color: #E2EBFA;\n",
              "      box-shadow: 0px 1px 2px rgba(60, 64, 67, 0.3), 0px 1px 3px 1px rgba(60, 64, 67, 0.15);\n",
              "      fill: #174EA6;\n",
              "    }\n",
              "\n",
              "    .colab-df-buttons div {\n",
              "      margin-bottom: 4px;\n",
              "    }\n",
              "\n",
              "    [theme=dark] .colab-df-convert {\n",
              "      background-color: #3B4455;\n",
              "      fill: #D2E3FC;\n",
              "    }\n",
              "\n",
              "    [theme=dark] .colab-df-convert:hover {\n",
              "      background-color: #434B5C;\n",
              "      box-shadow: 0px 1px 3px 1px rgba(0, 0, 0, 0.15);\n",
              "      filter: drop-shadow(0px 1px 2px rgba(0, 0, 0, 0.3));\n",
              "      fill: #FFFFFF;\n",
              "    }\n",
              "  </style>\n",
              "\n",
              "    <script>\n",
              "      const buttonEl =\n",
              "        document.querySelector('#df-a50e1468-63ea-4b23-8fcb-873e703a5579 button.colab-df-convert');\n",
              "      buttonEl.style.display =\n",
              "        google.colab.kernel.accessAllowed ? 'block' : 'none';\n",
              "\n",
              "      async function convertToInteractive(key) {\n",
              "        const element = document.querySelector('#df-a50e1468-63ea-4b23-8fcb-873e703a5579');\n",
              "        const dataTable =\n",
              "          await google.colab.kernel.invokeFunction('convertToInteractive',\n",
              "                                                    [key], {});\n",
              "        if (!dataTable) return;\n",
              "\n",
              "        const docLinkHtml = 'Like what you see? Visit the ' +\n",
              "          '<a target=\"_blank\" href=https://colab.research.google.com/notebooks/data_table.ipynb>data table notebook</a>'\n",
              "          + ' to learn more about interactive tables.';\n",
              "        element.innerHTML = '';\n",
              "        dataTable['output_type'] = 'display_data';\n",
              "        await google.colab.output.renderOutput(dataTable, element);\n",
              "        const docLink = document.createElement('div');\n",
              "        docLink.innerHTML = docLinkHtml;\n",
              "        element.appendChild(docLink);\n",
              "      }\n",
              "    </script>\n",
              "  </div>\n",
              "\n",
              "\n",
              "    <div id=\"df-20b2b368-bce2-4315-a00c-05ff3313707c\">\n",
              "      <button class=\"colab-df-quickchart\" onclick=\"quickchart('df-20b2b368-bce2-4315-a00c-05ff3313707c')\"\n",
              "                title=\"Suggest charts\"\n",
              "                style=\"display:none;\">\n",
              "\n",
              "<svg xmlns=\"http://www.w3.org/2000/svg\" height=\"24px\"viewBox=\"0 0 24 24\"\n",
              "     width=\"24px\">\n",
              "    <g>\n",
              "        <path d=\"M19 3H5c-1.1 0-2 .9-2 2v14c0 1.1.9 2 2 2h14c1.1 0 2-.9 2-2V5c0-1.1-.9-2-2-2zM9 17H7v-7h2v7zm4 0h-2V7h2v10zm4 0h-2v-4h2v4z\"/>\n",
              "    </g>\n",
              "</svg>\n",
              "      </button>\n",
              "\n",
              "<style>\n",
              "  .colab-df-quickchart {\n",
              "      --bg-color: #E8F0FE;\n",
              "      --fill-color: #1967D2;\n",
              "      --hover-bg-color: #E2EBFA;\n",
              "      --hover-fill-color: #174EA6;\n",
              "      --disabled-fill-color: #AAA;\n",
              "      --disabled-bg-color: #DDD;\n",
              "  }\n",
              "\n",
              "  [theme=dark] .colab-df-quickchart {\n",
              "      --bg-color: #3B4455;\n",
              "      --fill-color: #D2E3FC;\n",
              "      --hover-bg-color: #434B5C;\n",
              "      --hover-fill-color: #FFFFFF;\n",
              "      --disabled-bg-color: #3B4455;\n",
              "      --disabled-fill-color: #666;\n",
              "  }\n",
              "\n",
              "  .colab-df-quickchart {\n",
              "    background-color: var(--bg-color);\n",
              "    border: none;\n",
              "    border-radius: 50%;\n",
              "    cursor: pointer;\n",
              "    display: none;\n",
              "    fill: var(--fill-color);\n",
              "    height: 32px;\n",
              "    padding: 0;\n",
              "    width: 32px;\n",
              "  }\n",
              "\n",
              "  .colab-df-quickchart:hover {\n",
              "    background-color: var(--hover-bg-color);\n",
              "    box-shadow: 0 1px 2px rgba(60, 64, 67, 0.3), 0 1px 3px 1px rgba(60, 64, 67, 0.15);\n",
              "    fill: var(--button-hover-fill-color);\n",
              "  }\n",
              "\n",
              "  .colab-df-quickchart-complete:disabled,\n",
              "  .colab-df-quickchart-complete:disabled:hover {\n",
              "    background-color: var(--disabled-bg-color);\n",
              "    fill: var(--disabled-fill-color);\n",
              "    box-shadow: none;\n",
              "  }\n",
              "\n",
              "  .colab-df-spinner {\n",
              "    border: 2px solid var(--fill-color);\n",
              "    border-color: transparent;\n",
              "    border-bottom-color: var(--fill-color);\n",
              "    animation:\n",
              "      spin 1s steps(1) infinite;\n",
              "  }\n",
              "\n",
              "  @keyframes spin {\n",
              "    0% {\n",
              "      border-color: transparent;\n",
              "      border-bottom-color: var(--fill-color);\n",
              "      border-left-color: var(--fill-color);\n",
              "    }\n",
              "    20% {\n",
              "      border-color: transparent;\n",
              "      border-left-color: var(--fill-color);\n",
              "      border-top-color: var(--fill-color);\n",
              "    }\n",
              "    30% {\n",
              "      border-color: transparent;\n",
              "      border-left-color: var(--fill-color);\n",
              "      border-top-color: var(--fill-color);\n",
              "      border-right-color: var(--fill-color);\n",
              "    }\n",
              "    40% {\n",
              "      border-color: transparent;\n",
              "      border-right-color: var(--fill-color);\n",
              "      border-top-color: var(--fill-color);\n",
              "    }\n",
              "    60% {\n",
              "      border-color: transparent;\n",
              "      border-right-color: var(--fill-color);\n",
              "    }\n",
              "    80% {\n",
              "      border-color: transparent;\n",
              "      border-right-color: var(--fill-color);\n",
              "      border-bottom-color: var(--fill-color);\n",
              "    }\n",
              "    90% {\n",
              "      border-color: transparent;\n",
              "      border-bottom-color: var(--fill-color);\n",
              "    }\n",
              "  }\n",
              "</style>\n",
              "\n",
              "      <script>\n",
              "        async function quickchart(key) {\n",
              "          const quickchartButtonEl =\n",
              "            document.querySelector('#' + key + ' button');\n",
              "          quickchartButtonEl.disabled = true;  // To prevent multiple clicks.\n",
              "          quickchartButtonEl.classList.add('colab-df-spinner');\n",
              "          try {\n",
              "            const charts = await google.colab.kernel.invokeFunction(\n",
              "                'suggestCharts', [key], {});\n",
              "          } catch (error) {\n",
              "            console.error('Error during call to suggestCharts:', error);\n",
              "          }\n",
              "          quickchartButtonEl.classList.remove('colab-df-spinner');\n",
              "          quickchartButtonEl.classList.add('colab-df-quickchart-complete');\n",
              "        }\n",
              "        (() => {\n",
              "          let quickchartButtonEl =\n",
              "            document.querySelector('#df-20b2b368-bce2-4315-a00c-05ff3313707c button');\n",
              "          quickchartButtonEl.style.display =\n",
              "            google.colab.kernel.accessAllowed ? 'block' : 'none';\n",
              "        })();\n",
              "      </script>\n",
              "    </div>\n",
              "\n",
              "  <div id=\"id_bb8b47bf-743f-4b81-b34e-3e6802ce8c35\">\n",
              "    <style>\n",
              "      .colab-df-generate {\n",
              "        background-color: #E8F0FE;\n",
              "        border: none;\n",
              "        border-radius: 50%;\n",
              "        cursor: pointer;\n",
              "        display: none;\n",
              "        fill: #1967D2;\n",
              "        height: 32px;\n",
              "        padding: 0 0 0 0;\n",
              "        width: 32px;\n",
              "      }\n",
              "\n",
              "      .colab-df-generate:hover {\n",
              "        background-color: #E2EBFA;\n",
              "        box-shadow: 0px 1px 2px rgba(60, 64, 67, 0.3), 0px 1px 3px 1px rgba(60, 64, 67, 0.15);\n",
              "        fill: #174EA6;\n",
              "      }\n",
              "\n",
              "      [theme=dark] .colab-df-generate {\n",
              "        background-color: #3B4455;\n",
              "        fill: #D2E3FC;\n",
              "      }\n",
              "\n",
              "      [theme=dark] .colab-df-generate:hover {\n",
              "        background-color: #434B5C;\n",
              "        box-shadow: 0px 1px 3px 1px rgba(0, 0, 0, 0.15);\n",
              "        filter: drop-shadow(0px 1px 2px rgba(0, 0, 0, 0.3));\n",
              "        fill: #FFFFFF;\n",
              "      }\n",
              "    </style>\n",
              "    <button class=\"colab-df-generate\" onclick=\"generateWithVariable('results')\"\n",
              "            title=\"Generate code using this dataframe.\"\n",
              "            style=\"display:none;\">\n",
              "\n",
              "  <svg xmlns=\"http://www.w3.org/2000/svg\" height=\"24px\"viewBox=\"0 0 24 24\"\n",
              "       width=\"24px\">\n",
              "    <path d=\"M7,19H8.4L18.45,9,17,7.55,7,17.6ZM5,21V16.75L18.45,3.32a2,2,0,0,1,2.83,0l1.4,1.43a1.91,1.91,0,0,1,.58,1.4,1.91,1.91,0,0,1-.58,1.4L9.25,21ZM18.45,9,17,7.55Zm-12,3A5.31,5.31,0,0,0,4.9,8.1,5.31,5.31,0,0,0,1,6.5,5.31,5.31,0,0,0,4.9,4.9,5.31,5.31,0,0,0,6.5,1,5.31,5.31,0,0,0,8.1,4.9,5.31,5.31,0,0,0,12,6.5,5.46,5.46,0,0,0,6.5,12Z\"/>\n",
              "  </svg>\n",
              "    </button>\n",
              "    <script>\n",
              "      (() => {\n",
              "      const buttonEl =\n",
              "        document.querySelector('#id_bb8b47bf-743f-4b81-b34e-3e6802ce8c35 button.colab-df-generate');\n",
              "      buttonEl.style.display =\n",
              "        google.colab.kernel.accessAllowed ? 'block' : 'none';\n",
              "\n",
              "      buttonEl.onclick = () => {\n",
              "        google.colab.notebook.generateWithVariable('results');\n",
              "      }\n",
              "      })();\n",
              "    </script>\n",
              "  </div>\n",
              "\n",
              "    </div>\n",
              "  </div>\n"
            ],
            "application/vnd.google.colaboratory.intrinsic+json": {
              "type": "dataframe",
              "variable_name": "results",
              "summary": "{\n  \"name\": \"results\",\n  \"rows\": 8,\n  \"fields\": [\n    {\n      \"column\": \"Measure\",\n      \"properties\": {\n        \"dtype\": \"string\",\n        \"num_unique_values\": 8,\n        \"samples\": [\n          \"P(rel=2)@5\",\n          \"Bpref\",\n          \"P@5\"\n        ],\n        \"semantic_type\": \"\",\n        \"description\": \"\"\n      }\n    },\n    {\n      \"column\": \"BM25\",\n      \"properties\": {\n        \"dtype\": \"number\",\n        \"std\": 0.29479655913569325,\n        \"min\": 0.14329445164559937,\n        \"max\": 0.9777777777777776,\n        \"num_unique_values\": 8,\n        \"samples\": [\n          0.42962962962962964,\n          0.15692725849265102,\n          0.6333333333333334\n        ],\n        \"semantic_type\": \"\",\n        \"description\": \"\"\n      }\n    },\n    {\n      \"column\": \"TF-IDF\",\n      \"properties\": {\n        \"dtype\": \"number\",\n        \"std\": 0.2554761523732819,\n        \"min\": 0.09061698972524032,\n        \"max\": 0.8370370370370368,\n        \"num_unique_values\": 8,\n        \"samples\": [\n          0.3074074074074073,\n          0.10548578769133721,\n          0.4703703703703702\n        ],\n        \"semantic_type\": \"\",\n        \"description\": \"\"\n      }\n    }\n  ]\n}"
            }
          },
          "metadata": {},
          "execution_count": 37
        }
      ],
      "source": [
        "results = pd.DataFrame(\n",
        "    {\n",
        "        \"Measure\": [str(m) for m in measures],\n",
        "        \"BM25\": [bm25_results[m] for m in measures],\n",
        "        \"TF-IDF\": [tfidf_results[m] for m in measures],\n",
        "    }\n",
        ")\n",
        "results"
      ]
    },
    {
      "cell_type": "markdown",
      "metadata": {
        "id": "irZzf7HLnsF-"
      },
      "source": [
        "---"
      ]
    },
    {
      "cell_type": "markdown",
      "metadata": {
        "id": "HJR7wsq9ns8Z"
      },
      "source": [
        "## 6. **Comparison with PyTerrier**"
      ]
    },
    {
      "cell_type": "code",
      "execution_count": null,
      "metadata": {
        "id": "wapuFb8wnu0A"
      },
      "outputs": [],
      "source": [
        "# Load the MSMARCO Passage Retrieval dataset\n",
        "dataset = pt.get_dataset('msmarco_passage')"
      ]
    },
    {
      "cell_type": "markdown",
      "metadata": {
        "id": "v504hkb_nvCb"
      },
      "source": [
        "### 6.1 **Run experiments**"
      ]
    },
    {
      "cell_type": "markdown",
      "source": [
        "This cell might take a little while to run sometimes, due to Pyterrier's index download."
      ],
      "metadata": {
        "id": "URnntXjij-ld"
      }
    },
    {
      "cell_type": "code",
      "execution_count": null,
      "metadata": {
        "colab": {
          "base_uri": "https://localhost:8080/",
          "height": 510,
          "referenced_widgets": [
            "f3fd3d5ead1043999ba76cd263d7cf48",
            "82e21e9cec0c4b89827b35a408934275",
            "011ea3e070d248c189d1b96e29410337",
            "277acae8d91e43daa1959dafd194130b",
            "19450e2017e9481c8f8e896768193752",
            "406fe4ae7de44a4eab01d31decf85db0",
            "e514b0e167444ed488d6d198d41dc6a2",
            "8b34787b61aa426c83dc816944db5097",
            "404bc3a619a24254b57cf9647642033a",
            "3070f53c4a7246abb20804974c9dadcd",
            "f9691c144c054d11be87ae95f4007907",
            "08fad0b10aaa4a9da292369d2ae56ee2",
            "2828b0416e6f4b8c882a788c92acf391",
            "36dc73ed26e54ec68db613845ffa9638",
            "f7ab5e9ee82549148cbf5dd9aac3f8ba",
            "fb1f6a3c8e5245818ab23f274df24a5a",
            "cb61aa675350416f9f6051b9aeafed10",
            "5e5c1fb62b9e44d0a641b6c327ab9d44",
            "3e8d3d3c7f4b45c799e81ded784082fe",
            "e61035a31d32453abbdaf2391be42f32",
            "221bec9f0b7c4348aa3c085cfa9a57cd",
            "6e5cbfcde65b43c6a85745ecdb4c42ee",
            "a860d4d20aca468489e0845e6315b304",
            "153a45bfcc8f4da89f181ab55adf2899",
            "e3fafd8fcf114636a733a599e0d7bd45",
            "5ecdd3e3eaad432391a74ee3a372d508",
            "2ca9c29672944588b8550b198a9170da",
            "736e8361fe3842689377d51de8a2d338",
            "7bd402f61256423e8aa187a24f4a46d1",
            "fd004b1b8b844e928036ea9e7ab13d90",
            "d4672db6e6f64e259e5cbb1d9c8e7dee",
            "fc44bfe098fa45809450eec85fbc6a84",
            "4f957e1598af425f992671809986023c",
            "38e6738ad33e47cbbbfac221e6fe1728",
            "dc0d2196c60141018ab9c8626f9cdc80",
            "f91a74103d3541a3a242aaed2a8b1bd6",
            "5e0b778dea8448aea9ab31b3b732408e",
            "4eddf4792aac4a39bb94e252ede839c2",
            "c5117150996049cfa7a1cfa54c737c73",
            "9f9b283e2b264c3c9cbc61dc0a67f195",
            "76cc7f2d163f4ce7bbe11822e7b5e2f9",
            "03dfb3e9923742b79c70557cf9cfc2e7",
            "e41302929fc5449fa697f23a95fa96da",
            "12f7452f2db14d19ac624475a466ef90",
            "72bef2269a8f4cd78569061f360a3a80",
            "a1e75bbe21414fd7a73587db6dc637c5",
            "f9c7f595b960408eadcc123b2d5fb347",
            "51a13d04057c46d2be21915bda6d8fc0",
            "676be040369c4a43bf063704d6a40da1",
            "960e3e2e3ab948789d3dbc929088bf80",
            "b201de2143d348b1bb04b2c52dc8de84",
            "d0e5191c992c4c1dbc74f3a5ded8bc3f",
            "8b9386dd323941b79bb1a64a8c31c485",
            "179aad3840c049b293559592b7056e47",
            "66ce6398800048b8971cff7e295e2ca9",
            "27e62a7779c0476f8140c0217aa20177",
            "8b3188c4693d45e7bea4248ae3eb52d0",
            "4783bcf6231e430898e7adef80687565",
            "12b85f6a6821451ba00cfb80d95eec6e",
            "8528e6ba7306403cb32e0963a88c5d1b",
            "d7f3471748674212acbad0d3cf227c45",
            "b479f4f7f83a4ec4812df1d9e6e2e98f",
            "c8193c4860d3432d8e4ff8cf523da4a3",
            "aca9ffbeb6834221a74280cfedb20de3",
            "aaf4fc13b3a342e99f264d0b0e7e0456",
            "3f6ec680075e4d998066cd414b672477",
            "380dc1b73dfd4ed88aa7a73d6bfc71c7",
            "5b2c3653213540dfa21ad28633cc03a1",
            "886b56442a6343b7b6d08b6823f388fd",
            "d7ee76db143c4f02bf4d183158462843",
            "7af12e0d99d844a79b0c296e8d2c842f",
            "49f9c5c395a64a09be658fec67295245",
            "cdd635ba06f54da9aa00167e90a1a06e",
            "d1c0054287c2452cb94c9088efa7df9d",
            "a0cf89e01526430dac5ccdc93240ad49",
            "2b42b4c3846e405fb18f2c02a5700658",
            "91907dde07494e588ac0105816684509",
            "68c39c8871be4ec59da57697ce78f7c6",
            "70c4faeb017f4845a52dfaf72cddb14c",
            "f6172b89c9f7402b9238388073ac7047",
            "64de80e3555d49f8baaf8d5c75f9d2a5",
            "3cfc1bc6c1bc4046a5a205aca27600bd",
            "a0c21ac887a34c45a715bf4998b4d8f6",
            "348edaff43ef45d5959a85019ab13f18",
            "b941a29af4354967b880dde1da710af6",
            "2f42ebd56e214616ba7b0bae190d87d4",
            "eced632f18cc4cf1bcbe9b149d393b56",
            "b24a21f047fb48659c2bdfbb8421c934",
            "7a2131160d5545a5b3a38d8e60f67316",
            "41021550dbba42ef8d981128e3f737b4",
            "7c0f829a24574466af5f0fcd567cb6ed",
            "2a0714088e0848f1844d8f548a6581e4",
            "beed55ef0d2a464db762a75d549062f6",
            "5ab50018f87d45e4b1ff33e4eed22236",
            "7800094b927147d8ba392ca1f75bc18e",
            "7b4ade2ab19c402b90dcbe50d2cdef51",
            "cce1945812464187b00f87b9e4831d45",
            "4780140ed31b4c56a1827c6a69fddd92",
            "5f327eb066f745979f8aed7fa9dcfb5b",
            "2b825e350de54fc7904aaec6227286e6",
            "4e987b9e299c4874b5357798a2b75ec2",
            "3d391b22d5264d9fa4d9eedb9b9fdb3a",
            "386ce6c60ff942e9bfdad2dc35e63180",
            "6fc3138045db4c9ab09869f4d3a574f9",
            "4178f1cf37954cafbac18f5a5ae53b13",
            "4f8ff15c81d9476694f49feb0e59ffb3",
            "396a7d95616445eb9bc5a3bcbf02e2cd",
            "f39c5eb5ab2f4103a329403be876d14c",
            "a3c57c58136b4a5b8eeb5e0dca698ddc",
            "a1e31ffd00d049e99799ee2a49fd69fb",
            "8410f46a2d8b4376ae7ae27d496ac038",
            "9e52620384c84eea80d9270b4d03e96a",
            "68920349b7234079b93476e84ce2d506",
            "36e83c5fac64452080b83ac58e537dba",
            "8bd212cd4a0a4896a8bc493358362b8e",
            "64cf1b0e3fb2423a8cf4671900181d76",
            "e3a082cb81b5430aa55972ccc72fc33b",
            "b5ac2b7dac6c49bc85278e141c121332",
            "06fff5f143e64d98a73257d6d0e4eb78",
            "9c710681c6ad4ab7ab6bb1062328c4ea",
            "db8cf669766147f5827991411aba0e11",
            "64a98eb78347486e97b66d6e25d0a6f6",
            "1dc416520ce54eb097435ffbb4fa8492",
            "d06c026f8a3c418aa43951eaf437f170",
            "c50b03e62e1541bc9b7ade41f429d43e",
            "d41430bb4d1f48089c7b845cf621af3e",
            "da3fe7751d35400cbcd4b7861bc8abed",
            "21996fe445f443489220301cf55635b2",
            "c6631d6ab11043989e3986e853d47d3e",
            "c7053219b29b4ff1b8561eeadb717404",
            "591232efdf2a41ccb52bfd2fed3f2b46",
            "13536ce5d1c24a8094c9ce5f1ed5bee4"
          ]
        },
        "id": "YLRYYYPfnvYn",
        "outputId": "4e98d5f9-aa65-4f55-fccc-2bc7810fdd9d"
      },
      "outputs": [
        {
          "output_type": "stream",
          "name": "stdout",
          "text": [
            "terrier-assemblies 5.11 jar-with-dependencies not found, downloading to /root/.pyterrier...\n"
          ]
        },
        {
          "output_type": "display_data",
          "data": {
            "text/plain": [
              "https://repo1.maven.org/maven2/org/terrier/terrier-assemblies/5.11/terrier-assemblies-5.11-jar-with-dependenci…"
            ],
            "application/vnd.jupyter.widget-view+json": {
              "version_major": 2,
              "version_minor": 0,
              "model_id": "f3fd3d5ead1043999ba76cd263d7cf48"
            }
          },
          "metadata": {}
        },
        {
          "output_type": "stream",
          "name": "stdout",
          "text": [
            "Done\n",
            "terrier-python-helper 0.0.8 jar not found, downloading to /root/.pyterrier...\n"
          ]
        },
        {
          "output_type": "display_data",
          "data": {
            "text/plain": [
              "https://repo1.maven.org/maven2/org/terrier/terrier-python-helper/0.0.8/terrier-python-helper-0.0.8.jar:   0%| …"
            ],
            "application/vnd.jupyter.widget-view+json": {
              "version_major": 2,
              "version_minor": 0,
              "model_id": "08fad0b10aaa4a9da292369d2ae56ee2"
            }
          },
          "metadata": {}
        },
        {
          "output_type": "stream",
          "name": "stdout",
          "text": [
            "Done\n"
          ]
        },
        {
          "output_type": "stream",
          "name": "stderr",
          "text": [
            "Java started (triggered by Retriever.from_dataset) and loaded: pyterrier.java, pyterrier.terrier.java [version=5.11 (build: craig.macdonald 2025-01-13 21:29), helper_version=0.0.8]\n"
          ]
        },
        {
          "output_type": "stream",
          "name": "stdout",
          "text": [
            "Downloading msmarco_passage index to /root/.pyterrier/corpora/msmarco_passage/index/terrier_stemmed\n"
          ]
        },
        {
          "output_type": "display_data",
          "data": {
            "text/plain": [
              "data.direct.bf:   0%|          | 0.00/486M [00:00<?, ?iB/s]"
            ],
            "application/vnd.jupyter.widget-view+json": {
              "version_major": 2,
              "version_minor": 0,
              "model_id": "a860d4d20aca468489e0845e6315b304"
            }
          },
          "metadata": {}
        },
        {
          "output_type": "display_data",
          "data": {
            "text/plain": [
              "data.document.fsarrayfile:   0%|          | 0.00/177M [00:00<?, ?iB/s]"
            ],
            "application/vnd.jupyter.widget-view+json": {
              "version_major": 2,
              "version_minor": 0,
              "model_id": "38e6738ad33e47cbbbfac221e6fe1728"
            }
          },
          "metadata": {}
        },
        {
          "output_type": "display_data",
          "data": {
            "text/plain": [
              "data.inverted.bf:   0%|          | 0.00/377M [00:00<?, ?iB/s]"
            ],
            "application/vnd.jupyter.widget-view+json": {
              "version_major": 2,
              "version_minor": 0,
              "model_id": "72bef2269a8f4cd78569061f360a3a80"
            }
          },
          "metadata": {}
        },
        {
          "output_type": "display_data",
          "data": {
            "text/plain": [
              "data.lexicon.fsomapfile:   0%|          | 0.00/100M [00:00<?, ?iB/s]"
            ],
            "application/vnd.jupyter.widget-view+json": {
              "version_major": 2,
              "version_minor": 0,
              "model_id": "27e62a7779c0476f8140c0217aa20177"
            }
          },
          "metadata": {}
        },
        {
          "output_type": "display_data",
          "data": {
            "text/plain": [
              "data.lexicon.fsomaphash:   0%|          | 0.00/0.99k [00:00<?, ?iB/s]"
            ],
            "application/vnd.jupyter.widget-view+json": {
              "version_major": 2,
              "version_minor": 0,
              "model_id": "380dc1b73dfd4ed88aa7a73d6bfc71c7"
            }
          },
          "metadata": {}
        },
        {
          "output_type": "display_data",
          "data": {
            "text/plain": [
              "data.lexicon.fsomapid:   0%|          | 0.00/4.47M [00:00<?, ?iB/s]"
            ],
            "application/vnd.jupyter.widget-view+json": {
              "version_major": 2,
              "version_minor": 0,
              "model_id": "68c39c8871be4ec59da57697ce78f7c6"
            }
          },
          "metadata": {}
        },
        {
          "output_type": "display_data",
          "data": {
            "text/plain": [
              "data.meta.idx:   0%|          | 0.00/67.5M [00:00<?, ?iB/s]"
            ],
            "application/vnd.jupyter.widget-view+json": {
              "version_major": 2,
              "version_minor": 0,
              "model_id": "7a2131160d5545a5b3a38d8e60f67316"
            }
          },
          "metadata": {}
        },
        {
          "output_type": "display_data",
          "data": {
            "text/plain": [
              "data.meta.zdata:   0%|          | 0.00/193M [00:00<?, ?iB/s]"
            ],
            "application/vnd.jupyter.widget-view+json": {
              "version_major": 2,
              "version_minor": 0,
              "model_id": "2b825e350de54fc7904aaec6227286e6"
            }
          },
          "metadata": {}
        },
        {
          "output_type": "display_data",
          "data": {
            "text/plain": [
              "data.properties:   0%|          | 0.00/4.29k [00:00<?, ?iB/s]"
            ],
            "application/vnd.jupyter.widget-view+json": {
              "version_major": 2,
              "version_minor": 0,
              "model_id": "8410f46a2d8b4376ae7ae27d496ac038"
            }
          },
          "metadata": {}
        },
        {
          "output_type": "display_data",
          "data": {
            "text/plain": [
              "md5sums:   0%|          | 0.00/480 [00:00<?, ?iB/s]"
            ],
            "application/vnd.jupyter.widget-view+json": {
              "version_major": 2,
              "version_minor": 0,
              "model_id": "64a98eb78347486e97b66d6e25d0a6f6"
            }
          },
          "metadata": {}
        }
      ],
      "source": [
        "# TF-IDF retriever from the Terrier index\n",
        "tfidf_retriever = pt.terrier.Retriever.from_dataset(\n",
        "    'msmarco_passage', 'terrier_stemmed', wmodel='TF_IDF'\n",
        ")\n",
        "\n",
        "# BM25 retriever from the Terrier index\n",
        "bm25_retriever = pt.terrier.Retriever.from_dataset(\n",
        "    'msmarco_passage', 'terrier_stemmed', wmodel='BM25'\n",
        ")"
      ]
    },
    {
      "cell_type": "markdown",
      "metadata": {
        "id": "rBY4iejpnvox"
      },
      "source": []
    },
    {
      "cell_type": "code",
      "execution_count": null,
      "metadata": {
        "id": "4nzDb56-nv-m",
        "colab": {
          "base_uri": "https://localhost:8080/",
          "height": 225,
          "referenced_widgets": [
            "8a0a77c21c5e419ebdca2a66f98a4a74",
            "e17cab2e6d7b4955a96a1b6be8474aa3",
            "154ba138193a498d9c92629f5bb3e777",
            "c246767b600a43288a8de1af1dece8ea",
            "6c4702e33b674bd5b6c603f6f8c31046",
            "fed2a546500c46958d0e8ef50674c849",
            "d484a4f1d03b4475acd8f5254802482c",
            "bb2ace59379043d9818d9f6d2864e01d",
            "1218c33dad4c46f4a8b991ae174106f4",
            "c04a21c57b0b4100a0d0559163a236d1",
            "32ff37c20a0e41fbb90269242fbfae6e",
            "b6b18e3defb446649d4928b329dabcab",
            "7f25f447686449399ea79ab35d2cac6e",
            "7225f840da70402f981d962ec8542429",
            "0ee772a24476468b9356d8bc88947ea3",
            "bfe84d2b187043f89483594850a2275d",
            "8af15b50be224b81bcc1aa640f68a8fb",
            "d6dc045dabf8425f9f8295035205c5cb",
            "c988c3859bf94c888139b51605c410c7",
            "2cc45aa2bc6c44789c18ac542e1a9a0b",
            "07cd1558c3664f20b7ff4d0281b66b22",
            "5b5e6ee8b3014561b0927bfa9cc7393c"
          ]
        },
        "outputId": "f807178b-6ac9-477e-be3f-518e779797be"
      },
      "outputs": [
        {
          "output_type": "stream",
          "name": "stdout",
          "text": [
            "Downloading msmarco_passage topics to /root/.pyterrier/corpora/msmarco_passage/msmarco-test2020-queries.tsv.gz\n"
          ]
        },
        {
          "output_type": "display_data",
          "data": {
            "text/plain": [
              "msmarco-test2020-queries.tsv.gz:   0%|          | 0.00/4.03k [00:00<?, ?iB/s]"
            ],
            "application/vnd.jupyter.widget-view+json": {
              "version_major": 2,
              "version_minor": 0,
              "model_id": "8a0a77c21c5e419ebdca2a66f98a4a74"
            }
          },
          "metadata": {}
        },
        {
          "output_type": "stream",
          "name": "stdout",
          "text": [
            "Downloading msmarco_passage qrels to /root/.pyterrier/corpora/msmarco_passage/2020qrels-docs.txt\n"
          ]
        },
        {
          "output_type": "display_data",
          "data": {
            "text/plain": [
              "2020qrels-docs.txt:   0%|          | 0.00/47.7k [00:00<?, ?iB/s]"
            ],
            "application/vnd.jupyter.widget-view+json": {
              "version_major": 2,
              "version_minor": 0,
              "model_id": "b6b18e3defb446649d4928b329dabcab"
            }
          },
          "metadata": {}
        },
        {
          "output_type": "execute_result",
          "data": {
            "text/plain": [
              "                  name       P@5  P(rel=2)@5   nDCG@10        AP  AP(rel=2)  \\\n",
              "0  TerrierRetr(TF_IDF)  0.625926    0.392593  0.492575  0.358072   0.292548   \n",
              "1    TerrierRetr(BM25)  0.625926    0.392593  0.493627  0.358724   0.292988   \n",
              "\n",
              "      Bpref  Bpref(rel=2)  Judged@10  \n",
              "0  0.446573      0.287314   0.972222  \n",
              "1  0.447017      0.287210   0.972222  "
            ],
            "text/html": [
              "\n",
              "  <div id=\"df-f06c6bb2-27a5-4817-9568-08aacb5a85a3\" class=\"colab-df-container\">\n",
              "    <div>\n",
              "<style scoped>\n",
              "    .dataframe tbody tr th:only-of-type {\n",
              "        vertical-align: middle;\n",
              "    }\n",
              "\n",
              "    .dataframe tbody tr th {\n",
              "        vertical-align: top;\n",
              "    }\n",
              "\n",
              "    .dataframe thead th {\n",
              "        text-align: right;\n",
              "    }\n",
              "</style>\n",
              "<table border=\"1\" class=\"dataframe\">\n",
              "  <thead>\n",
              "    <tr style=\"text-align: right;\">\n",
              "      <th></th>\n",
              "      <th>name</th>\n",
              "      <th>P@5</th>\n",
              "      <th>P(rel=2)@5</th>\n",
              "      <th>nDCG@10</th>\n",
              "      <th>AP</th>\n",
              "      <th>AP(rel=2)</th>\n",
              "      <th>Bpref</th>\n",
              "      <th>Bpref(rel=2)</th>\n",
              "      <th>Judged@10</th>\n",
              "    </tr>\n",
              "  </thead>\n",
              "  <tbody>\n",
              "    <tr>\n",
              "      <th>0</th>\n",
              "      <td>TerrierRetr(TF_IDF)</td>\n",
              "      <td>0.625926</td>\n",
              "      <td>0.392593</td>\n",
              "      <td>0.492575</td>\n",
              "      <td>0.358072</td>\n",
              "      <td>0.292548</td>\n",
              "      <td>0.446573</td>\n",
              "      <td>0.287314</td>\n",
              "      <td>0.972222</td>\n",
              "    </tr>\n",
              "    <tr>\n",
              "      <th>1</th>\n",
              "      <td>TerrierRetr(BM25)</td>\n",
              "      <td>0.625926</td>\n",
              "      <td>0.392593</td>\n",
              "      <td>0.493627</td>\n",
              "      <td>0.358724</td>\n",
              "      <td>0.292988</td>\n",
              "      <td>0.447017</td>\n",
              "      <td>0.287210</td>\n",
              "      <td>0.972222</td>\n",
              "    </tr>\n",
              "  </tbody>\n",
              "</table>\n",
              "</div>\n",
              "    <div class=\"colab-df-buttons\">\n",
              "\n",
              "  <div class=\"colab-df-container\">\n",
              "    <button class=\"colab-df-convert\" onclick=\"convertToInteractive('df-f06c6bb2-27a5-4817-9568-08aacb5a85a3')\"\n",
              "            title=\"Convert this dataframe to an interactive table.\"\n",
              "            style=\"display:none;\">\n",
              "\n",
              "  <svg xmlns=\"http://www.w3.org/2000/svg\" height=\"24px\" viewBox=\"0 -960 960 960\">\n",
              "    <path d=\"M120-120v-720h720v720H120Zm60-500h600v-160H180v160Zm220 220h160v-160H400v160Zm0 220h160v-160H400v160ZM180-400h160v-160H180v160Zm440 0h160v-160H620v160ZM180-180h160v-160H180v160Zm440 0h160v-160H620v160Z\"/>\n",
              "  </svg>\n",
              "    </button>\n",
              "\n",
              "  <style>\n",
              "    .colab-df-container {\n",
              "      display:flex;\n",
              "      gap: 12px;\n",
              "    }\n",
              "\n",
              "    .colab-df-convert {\n",
              "      background-color: #E8F0FE;\n",
              "      border: none;\n",
              "      border-radius: 50%;\n",
              "      cursor: pointer;\n",
              "      display: none;\n",
              "      fill: #1967D2;\n",
              "      height: 32px;\n",
              "      padding: 0 0 0 0;\n",
              "      width: 32px;\n",
              "    }\n",
              "\n",
              "    .colab-df-convert:hover {\n",
              "      background-color: #E2EBFA;\n",
              "      box-shadow: 0px 1px 2px rgba(60, 64, 67, 0.3), 0px 1px 3px 1px rgba(60, 64, 67, 0.15);\n",
              "      fill: #174EA6;\n",
              "    }\n",
              "\n",
              "    .colab-df-buttons div {\n",
              "      margin-bottom: 4px;\n",
              "    }\n",
              "\n",
              "    [theme=dark] .colab-df-convert {\n",
              "      background-color: #3B4455;\n",
              "      fill: #D2E3FC;\n",
              "    }\n",
              "\n",
              "    [theme=dark] .colab-df-convert:hover {\n",
              "      background-color: #434B5C;\n",
              "      box-shadow: 0px 1px 3px 1px rgba(0, 0, 0, 0.15);\n",
              "      filter: drop-shadow(0px 1px 2px rgba(0, 0, 0, 0.3));\n",
              "      fill: #FFFFFF;\n",
              "    }\n",
              "  </style>\n",
              "\n",
              "    <script>\n",
              "      const buttonEl =\n",
              "        document.querySelector('#df-f06c6bb2-27a5-4817-9568-08aacb5a85a3 button.colab-df-convert');\n",
              "      buttonEl.style.display =\n",
              "        google.colab.kernel.accessAllowed ? 'block' : 'none';\n",
              "\n",
              "      async function convertToInteractive(key) {\n",
              "        const element = document.querySelector('#df-f06c6bb2-27a5-4817-9568-08aacb5a85a3');\n",
              "        const dataTable =\n",
              "          await google.colab.kernel.invokeFunction('convertToInteractive',\n",
              "                                                    [key], {});\n",
              "        if (!dataTable) return;\n",
              "\n",
              "        const docLinkHtml = 'Like what you see? Visit the ' +\n",
              "          '<a target=\"_blank\" href=https://colab.research.google.com/notebooks/data_table.ipynb>data table notebook</a>'\n",
              "          + ' to learn more about interactive tables.';\n",
              "        element.innerHTML = '';\n",
              "        dataTable['output_type'] = 'display_data';\n",
              "        await google.colab.output.renderOutput(dataTable, element);\n",
              "        const docLink = document.createElement('div');\n",
              "        docLink.innerHTML = docLinkHtml;\n",
              "        element.appendChild(docLink);\n",
              "      }\n",
              "    </script>\n",
              "  </div>\n",
              "\n",
              "\n",
              "    <div id=\"df-dee7fc77-d338-4767-bae3-82526929a449\">\n",
              "      <button class=\"colab-df-quickchart\" onclick=\"quickchart('df-dee7fc77-d338-4767-bae3-82526929a449')\"\n",
              "                title=\"Suggest charts\"\n",
              "                style=\"display:none;\">\n",
              "\n",
              "<svg xmlns=\"http://www.w3.org/2000/svg\" height=\"24px\"viewBox=\"0 0 24 24\"\n",
              "     width=\"24px\">\n",
              "    <g>\n",
              "        <path d=\"M19 3H5c-1.1 0-2 .9-2 2v14c0 1.1.9 2 2 2h14c1.1 0 2-.9 2-2V5c0-1.1-.9-2-2-2zM9 17H7v-7h2v7zm4 0h-2V7h2v10zm4 0h-2v-4h2v4z\"/>\n",
              "    </g>\n",
              "</svg>\n",
              "      </button>\n",
              "\n",
              "<style>\n",
              "  .colab-df-quickchart {\n",
              "      --bg-color: #E8F0FE;\n",
              "      --fill-color: #1967D2;\n",
              "      --hover-bg-color: #E2EBFA;\n",
              "      --hover-fill-color: #174EA6;\n",
              "      --disabled-fill-color: #AAA;\n",
              "      --disabled-bg-color: #DDD;\n",
              "  }\n",
              "\n",
              "  [theme=dark] .colab-df-quickchart {\n",
              "      --bg-color: #3B4455;\n",
              "      --fill-color: #D2E3FC;\n",
              "      --hover-bg-color: #434B5C;\n",
              "      --hover-fill-color: #FFFFFF;\n",
              "      --disabled-bg-color: #3B4455;\n",
              "      --disabled-fill-color: #666;\n",
              "  }\n",
              "\n",
              "  .colab-df-quickchart {\n",
              "    background-color: var(--bg-color);\n",
              "    border: none;\n",
              "    border-radius: 50%;\n",
              "    cursor: pointer;\n",
              "    display: none;\n",
              "    fill: var(--fill-color);\n",
              "    height: 32px;\n",
              "    padding: 0;\n",
              "    width: 32px;\n",
              "  }\n",
              "\n",
              "  .colab-df-quickchart:hover {\n",
              "    background-color: var(--hover-bg-color);\n",
              "    box-shadow: 0 1px 2px rgba(60, 64, 67, 0.3), 0 1px 3px 1px rgba(60, 64, 67, 0.15);\n",
              "    fill: var(--button-hover-fill-color);\n",
              "  }\n",
              "\n",
              "  .colab-df-quickchart-complete:disabled,\n",
              "  .colab-df-quickchart-complete:disabled:hover {\n",
              "    background-color: var(--disabled-bg-color);\n",
              "    fill: var(--disabled-fill-color);\n",
              "    box-shadow: none;\n",
              "  }\n",
              "\n",
              "  .colab-df-spinner {\n",
              "    border: 2px solid var(--fill-color);\n",
              "    border-color: transparent;\n",
              "    border-bottom-color: var(--fill-color);\n",
              "    animation:\n",
              "      spin 1s steps(1) infinite;\n",
              "  }\n",
              "\n",
              "  @keyframes spin {\n",
              "    0% {\n",
              "      border-color: transparent;\n",
              "      border-bottom-color: var(--fill-color);\n",
              "      border-left-color: var(--fill-color);\n",
              "    }\n",
              "    20% {\n",
              "      border-color: transparent;\n",
              "      border-left-color: var(--fill-color);\n",
              "      border-top-color: var(--fill-color);\n",
              "    }\n",
              "    30% {\n",
              "      border-color: transparent;\n",
              "      border-left-color: var(--fill-color);\n",
              "      border-top-color: var(--fill-color);\n",
              "      border-right-color: var(--fill-color);\n",
              "    }\n",
              "    40% {\n",
              "      border-color: transparent;\n",
              "      border-right-color: var(--fill-color);\n",
              "      border-top-color: var(--fill-color);\n",
              "    }\n",
              "    60% {\n",
              "      border-color: transparent;\n",
              "      border-right-color: var(--fill-color);\n",
              "    }\n",
              "    80% {\n",
              "      border-color: transparent;\n",
              "      border-right-color: var(--fill-color);\n",
              "      border-bottom-color: var(--fill-color);\n",
              "    }\n",
              "    90% {\n",
              "      border-color: transparent;\n",
              "      border-bottom-color: var(--fill-color);\n",
              "    }\n",
              "  }\n",
              "</style>\n",
              "\n",
              "      <script>\n",
              "        async function quickchart(key) {\n",
              "          const quickchartButtonEl =\n",
              "            document.querySelector('#' + key + ' button');\n",
              "          quickchartButtonEl.disabled = true;  // To prevent multiple clicks.\n",
              "          quickchartButtonEl.classList.add('colab-df-spinner');\n",
              "          try {\n",
              "            const charts = await google.colab.kernel.invokeFunction(\n",
              "                'suggestCharts', [key], {});\n",
              "          } catch (error) {\n",
              "            console.error('Error during call to suggestCharts:', error);\n",
              "          }\n",
              "          quickchartButtonEl.classList.remove('colab-df-spinner');\n",
              "          quickchartButtonEl.classList.add('colab-df-quickchart-complete');\n",
              "        }\n",
              "        (() => {\n",
              "          let quickchartButtonEl =\n",
              "            document.querySelector('#df-dee7fc77-d338-4767-bae3-82526929a449 button');\n",
              "          quickchartButtonEl.style.display =\n",
              "            google.colab.kernel.accessAllowed ? 'block' : 'none';\n",
              "        })();\n",
              "      </script>\n",
              "    </div>\n",
              "\n",
              "  <div id=\"id_1532f9a5-e47f-41a7-ba49-6cf5a132331a\">\n",
              "    <style>\n",
              "      .colab-df-generate {\n",
              "        background-color: #E8F0FE;\n",
              "        border: none;\n",
              "        border-radius: 50%;\n",
              "        cursor: pointer;\n",
              "        display: none;\n",
              "        fill: #1967D2;\n",
              "        height: 32px;\n",
              "        padding: 0 0 0 0;\n",
              "        width: 32px;\n",
              "      }\n",
              "\n",
              "      .colab-df-generate:hover {\n",
              "        background-color: #E2EBFA;\n",
              "        box-shadow: 0px 1px 2px rgba(60, 64, 67, 0.3), 0px 1px 3px 1px rgba(60, 64, 67, 0.15);\n",
              "        fill: #174EA6;\n",
              "      }\n",
              "\n",
              "      [theme=dark] .colab-df-generate {\n",
              "        background-color: #3B4455;\n",
              "        fill: #D2E3FC;\n",
              "      }\n",
              "\n",
              "      [theme=dark] .colab-df-generate:hover {\n",
              "        background-color: #434B5C;\n",
              "        box-shadow: 0px 1px 3px 1px rgba(0, 0, 0, 0.15);\n",
              "        filter: drop-shadow(0px 1px 2px rgba(0, 0, 0, 0.3));\n",
              "        fill: #FFFFFF;\n",
              "      }\n",
              "    </style>\n",
              "    <button class=\"colab-df-generate\" onclick=\"generateWithVariable('pt_results')\"\n",
              "            title=\"Generate code using this dataframe.\"\n",
              "            style=\"display:none;\">\n",
              "\n",
              "  <svg xmlns=\"http://www.w3.org/2000/svg\" height=\"24px\"viewBox=\"0 0 24 24\"\n",
              "       width=\"24px\">\n",
              "    <path d=\"M7,19H8.4L18.45,9,17,7.55,7,17.6ZM5,21V16.75L18.45,3.32a2,2,0,0,1,2.83,0l1.4,1.43a1.91,1.91,0,0,1,.58,1.4,1.91,1.91,0,0,1-.58,1.4L9.25,21ZM18.45,9,17,7.55Zm-12,3A5.31,5.31,0,0,0,4.9,8.1,5.31,5.31,0,0,0,1,6.5,5.31,5.31,0,0,0,4.9,4.9,5.31,5.31,0,0,0,6.5,1,5.31,5.31,0,0,0,8.1,4.9,5.31,5.31,0,0,0,12,6.5,5.46,5.46,0,0,0,6.5,12Z\"/>\n",
              "  </svg>\n",
              "    </button>\n",
              "    <script>\n",
              "      (() => {\n",
              "      const buttonEl =\n",
              "        document.querySelector('#id_1532f9a5-e47f-41a7-ba49-6cf5a132331a button.colab-df-generate');\n",
              "      buttonEl.style.display =\n",
              "        google.colab.kernel.accessAllowed ? 'block' : 'none';\n",
              "\n",
              "      buttonEl.onclick = () => {\n",
              "        google.colab.notebook.generateWithVariable('pt_results');\n",
              "      }\n",
              "      })();\n",
              "    </script>\n",
              "  </div>\n",
              "\n",
              "    </div>\n",
              "  </div>\n"
            ],
            "application/vnd.google.colaboratory.intrinsic+json": {
              "type": "dataframe",
              "variable_name": "pt_results",
              "summary": "{\n  \"name\": \"pt_results\",\n  \"rows\": 2,\n  \"fields\": [\n    {\n      \"column\": \"name\",\n      \"properties\": {\n        \"dtype\": \"string\",\n        \"num_unique_values\": 2,\n        \"samples\": [\n          \"TerrierRetr(BM25)\",\n          \"TerrierRetr(TF_IDF)\"\n        ],\n        \"semantic_type\": \"\",\n        \"description\": \"\"\n      }\n    },\n    {\n      \"column\": \"P@5\",\n      \"properties\": {\n        \"dtype\": \"number\",\n        \"std\": 0.0,\n        \"min\": 0.6259259259259259,\n        \"max\": 0.6259259259259259,\n        \"num_unique_values\": 1,\n        \"samples\": [\n          0.6259259259259259\n        ],\n        \"semantic_type\": \"\",\n        \"description\": \"\"\n      }\n    },\n    {\n      \"column\": \"P(rel=2)@5\",\n      \"properties\": {\n        \"dtype\": \"number\",\n        \"std\": 0.0,\n        \"min\": 0.3925925925925925,\n        \"max\": 0.3925925925925925,\n        \"num_unique_values\": 1,\n        \"samples\": [\n          0.3925925925925925\n        ],\n        \"semantic_type\": \"\",\n        \"description\": \"\"\n      }\n    },\n    {\n      \"column\": \"nDCG@10\",\n      \"properties\": {\n        \"dtype\": \"number\",\n        \"std\": 0.0007440302222365624,\n        \"min\": 0.49257516071215307,\n        \"max\": 0.4936273783432555,\n        \"num_unique_values\": 2,\n        \"samples\": [\n          0.4936273783432555\n        ],\n        \"semantic_type\": \"\",\n        \"description\": \"\"\n      }\n    },\n    {\n      \"column\": \"AP\",\n      \"properties\": {\n        \"dtype\": \"number\",\n        \"std\": 0.00046121868230354087,\n        \"min\": 0.35807197489957543,\n        \"max\": 0.35872423661530894,\n        \"num_unique_values\": 2,\n        \"samples\": [\n          0.35872423661530894\n        ],\n        \"semantic_type\": \"\",\n        \"description\": \"\"\n      }\n    },\n    {\n      \"column\": \"AP(rel=2)\",\n      \"properties\": {\n        \"dtype\": \"number\",\n        \"std\": 0.0003109810406316397,\n        \"min\": 0.29254805937899814,\n        \"max\": 0.2929878529843003,\n        \"num_unique_values\": 2,\n        \"samples\": [\n          0.2929878529843003\n        ],\n        \"semantic_type\": \"\",\n        \"description\": \"\"\n      }\n    },\n    {\n      \"column\": \"Bpref\",\n      \"properties\": {\n        \"dtype\": \"number\",\n        \"std\": 0.000313861739648637,\n        \"min\": 0.4465726801194864,\n        \"max\": 0.44701654764840754,\n        \"num_unique_values\": 2,\n        \"samples\": [\n          0.44701654764840754\n        ],\n        \"semantic_type\": \"\",\n        \"description\": \"\"\n      }\n    },\n    {\n      \"column\": \"Bpref(rel=2)\",\n      \"properties\": {\n        \"dtype\": \"number\",\n        \"std\": 7.357754536840802e-05,\n        \"min\": 0.28721039713919977,\n        \"max\": 0.2873144515017459,\n        \"num_unique_values\": 2,\n        \"samples\": [\n          0.28721039713919977\n        ],\n        \"semantic_type\": \"\",\n        \"description\": \"\"\n      }\n    },\n    {\n      \"column\": \"Judged@10\",\n      \"properties\": {\n        \"dtype\": \"number\",\n        \"std\": 0.0,\n        \"min\": 0.9722222222222221,\n        \"max\": 0.9722222222222221,\n        \"num_unique_values\": 1,\n        \"samples\": [\n          0.9722222222222221\n        ],\n        \"semantic_type\": \"\",\n        \"description\": \"\"\n      }\n    }\n  ]\n}"
            }
          },
          "metadata": {},
          "execution_count": 42
        }
      ],
      "source": [
        "pt_results = pt.Experiment(\n",
        "    [tfidf_retriever, bm25_retriever],\n",
        "    dataset.get_topics('test-2020'),\n",
        "    dataset.get_qrels('test-2020'),\n",
        "    eval_metrics=measures\n",
        ")\n",
        "pt_results"
      ]
    },
    {
      "cell_type": "markdown",
      "metadata": {
        "id": "LyFomVravFt6"
      },
      "source": [
        "### 6.2 **Results Comparison**"
      ]
    },
    {
      "cell_type": "code",
      "execution_count": null,
      "metadata": {
        "id": "ESixDYKPfM9k",
        "colab": {
          "base_uri": "https://localhost:8080/"
        },
        "outputId": "b8154a20-06bc-43ee-80f3-6f8b937ccad7"
      },
      "outputs": [
        {
          "output_type": "execute_result",
          "data": {
            "text/plain": [
              "                  BM25    TF-IDF  TerrierRetr(BM25)  TerrierRetr(TF_IDF)\n",
              "Measure                                                                 \n",
              "AP            0.143294  0.090617           0.358724             0.358072\n",
              "AP(rel=2)     0.188054  0.127845           0.292988             0.292548\n",
              "Bpref         0.156927  0.105486           0.447017             0.446573\n",
              "Bpref(rel=2)  0.204446  0.142784           0.287210             0.287314\n",
              "Judged@10     0.977778  0.837037           0.972222             0.972222\n",
              "P(rel=2)@5    0.429630  0.307407           0.392593             0.392593\n",
              "P@5           0.633333  0.470370           0.625926             0.625926\n",
              "nDCG@10       0.505998  0.359736           0.493627             0.492575"
            ],
            "text/html": [
              "\n",
              "  <div id=\"df-3f474a93-7d2e-4b5d-80c6-aad34faa5d5d\" class=\"colab-df-container\">\n",
              "    <div>\n",
              "<style scoped>\n",
              "    .dataframe tbody tr th:only-of-type {\n",
              "        vertical-align: middle;\n",
              "    }\n",
              "\n",
              "    .dataframe tbody tr th {\n",
              "        vertical-align: top;\n",
              "    }\n",
              "\n",
              "    .dataframe thead th {\n",
              "        text-align: right;\n",
              "    }\n",
              "</style>\n",
              "<table border=\"1\" class=\"dataframe\">\n",
              "  <thead>\n",
              "    <tr style=\"text-align: right;\">\n",
              "      <th></th>\n",
              "      <th>BM25</th>\n",
              "      <th>TF-IDF</th>\n",
              "      <th>TerrierRetr(BM25)</th>\n",
              "      <th>TerrierRetr(TF_IDF)</th>\n",
              "    </tr>\n",
              "    <tr>\n",
              "      <th>Measure</th>\n",
              "      <th></th>\n",
              "      <th></th>\n",
              "      <th></th>\n",
              "      <th></th>\n",
              "    </tr>\n",
              "  </thead>\n",
              "  <tbody>\n",
              "    <tr>\n",
              "      <th>AP</th>\n",
              "      <td>0.143294</td>\n",
              "      <td>0.090617</td>\n",
              "      <td>0.358724</td>\n",
              "      <td>0.358072</td>\n",
              "    </tr>\n",
              "    <tr>\n",
              "      <th>AP(rel=2)</th>\n",
              "      <td>0.188054</td>\n",
              "      <td>0.127845</td>\n",
              "      <td>0.292988</td>\n",
              "      <td>0.292548</td>\n",
              "    </tr>\n",
              "    <tr>\n",
              "      <th>Bpref</th>\n",
              "      <td>0.156927</td>\n",
              "      <td>0.105486</td>\n",
              "      <td>0.447017</td>\n",
              "      <td>0.446573</td>\n",
              "    </tr>\n",
              "    <tr>\n",
              "      <th>Bpref(rel=2)</th>\n",
              "      <td>0.204446</td>\n",
              "      <td>0.142784</td>\n",
              "      <td>0.287210</td>\n",
              "      <td>0.287314</td>\n",
              "    </tr>\n",
              "    <tr>\n",
              "      <th>Judged@10</th>\n",
              "      <td>0.977778</td>\n",
              "      <td>0.837037</td>\n",
              "      <td>0.972222</td>\n",
              "      <td>0.972222</td>\n",
              "    </tr>\n",
              "    <tr>\n",
              "      <th>P(rel=2)@5</th>\n",
              "      <td>0.429630</td>\n",
              "      <td>0.307407</td>\n",
              "      <td>0.392593</td>\n",
              "      <td>0.392593</td>\n",
              "    </tr>\n",
              "    <tr>\n",
              "      <th>P@5</th>\n",
              "      <td>0.633333</td>\n",
              "      <td>0.470370</td>\n",
              "      <td>0.625926</td>\n",
              "      <td>0.625926</td>\n",
              "    </tr>\n",
              "    <tr>\n",
              "      <th>nDCG@10</th>\n",
              "      <td>0.505998</td>\n",
              "      <td>0.359736</td>\n",
              "      <td>0.493627</td>\n",
              "      <td>0.492575</td>\n",
              "    </tr>\n",
              "  </tbody>\n",
              "</table>\n",
              "</div>\n",
              "    <div class=\"colab-df-buttons\">\n",
              "\n",
              "  <div class=\"colab-df-container\">\n",
              "    <button class=\"colab-df-convert\" onclick=\"convertToInteractive('df-3f474a93-7d2e-4b5d-80c6-aad34faa5d5d')\"\n",
              "            title=\"Convert this dataframe to an interactive table.\"\n",
              "            style=\"display:none;\">\n",
              "\n",
              "  <svg xmlns=\"http://www.w3.org/2000/svg\" height=\"24px\" viewBox=\"0 -960 960 960\">\n",
              "    <path d=\"M120-120v-720h720v720H120Zm60-500h600v-160H180v160Zm220 220h160v-160H400v160Zm0 220h160v-160H400v160ZM180-400h160v-160H180v160Zm440 0h160v-160H620v160ZM180-180h160v-160H180v160Zm440 0h160v-160H620v160Z\"/>\n",
              "  </svg>\n",
              "    </button>\n",
              "\n",
              "  <style>\n",
              "    .colab-df-container {\n",
              "      display:flex;\n",
              "      gap: 12px;\n",
              "    }\n",
              "\n",
              "    .colab-df-convert {\n",
              "      background-color: #E8F0FE;\n",
              "      border: none;\n",
              "      border-radius: 50%;\n",
              "      cursor: pointer;\n",
              "      display: none;\n",
              "      fill: #1967D2;\n",
              "      height: 32px;\n",
              "      padding: 0 0 0 0;\n",
              "      width: 32px;\n",
              "    }\n",
              "\n",
              "    .colab-df-convert:hover {\n",
              "      background-color: #E2EBFA;\n",
              "      box-shadow: 0px 1px 2px rgba(60, 64, 67, 0.3), 0px 1px 3px 1px rgba(60, 64, 67, 0.15);\n",
              "      fill: #174EA6;\n",
              "    }\n",
              "\n",
              "    .colab-df-buttons div {\n",
              "      margin-bottom: 4px;\n",
              "    }\n",
              "\n",
              "    [theme=dark] .colab-df-convert {\n",
              "      background-color: #3B4455;\n",
              "      fill: #D2E3FC;\n",
              "    }\n",
              "\n",
              "    [theme=dark] .colab-df-convert:hover {\n",
              "      background-color: #434B5C;\n",
              "      box-shadow: 0px 1px 3px 1px rgba(0, 0, 0, 0.15);\n",
              "      filter: drop-shadow(0px 1px 2px rgba(0, 0, 0, 0.3));\n",
              "      fill: #FFFFFF;\n",
              "    }\n",
              "  </style>\n",
              "\n",
              "    <script>\n",
              "      const buttonEl =\n",
              "        document.querySelector('#df-3f474a93-7d2e-4b5d-80c6-aad34faa5d5d button.colab-df-convert');\n",
              "      buttonEl.style.display =\n",
              "        google.colab.kernel.accessAllowed ? 'block' : 'none';\n",
              "\n",
              "      async function convertToInteractive(key) {\n",
              "        const element = document.querySelector('#df-3f474a93-7d2e-4b5d-80c6-aad34faa5d5d');\n",
              "        const dataTable =\n",
              "          await google.colab.kernel.invokeFunction('convertToInteractive',\n",
              "                                                    [key], {});\n",
              "        if (!dataTable) return;\n",
              "\n",
              "        const docLinkHtml = 'Like what you see? Visit the ' +\n",
              "          '<a target=\"_blank\" href=https://colab.research.google.com/notebooks/data_table.ipynb>data table notebook</a>'\n",
              "          + ' to learn more about interactive tables.';\n",
              "        element.innerHTML = '';\n",
              "        dataTable['output_type'] = 'display_data';\n",
              "        await google.colab.output.renderOutput(dataTable, element);\n",
              "        const docLink = document.createElement('div');\n",
              "        docLink.innerHTML = docLinkHtml;\n",
              "        element.appendChild(docLink);\n",
              "      }\n",
              "    </script>\n",
              "  </div>\n",
              "\n",
              "\n",
              "    <div id=\"df-533f2ece-c09d-4342-9965-95d5a89a234b\">\n",
              "      <button class=\"colab-df-quickchart\" onclick=\"quickchart('df-533f2ece-c09d-4342-9965-95d5a89a234b')\"\n",
              "                title=\"Suggest charts\"\n",
              "                style=\"display:none;\">\n",
              "\n",
              "<svg xmlns=\"http://www.w3.org/2000/svg\" height=\"24px\"viewBox=\"0 0 24 24\"\n",
              "     width=\"24px\">\n",
              "    <g>\n",
              "        <path d=\"M19 3H5c-1.1 0-2 .9-2 2v14c0 1.1.9 2 2 2h14c1.1 0 2-.9 2-2V5c0-1.1-.9-2-2-2zM9 17H7v-7h2v7zm4 0h-2V7h2v10zm4 0h-2v-4h2v4z\"/>\n",
              "    </g>\n",
              "</svg>\n",
              "      </button>\n",
              "\n",
              "<style>\n",
              "  .colab-df-quickchart {\n",
              "      --bg-color: #E8F0FE;\n",
              "      --fill-color: #1967D2;\n",
              "      --hover-bg-color: #E2EBFA;\n",
              "      --hover-fill-color: #174EA6;\n",
              "      --disabled-fill-color: #AAA;\n",
              "      --disabled-bg-color: #DDD;\n",
              "  }\n",
              "\n",
              "  [theme=dark] .colab-df-quickchart {\n",
              "      --bg-color: #3B4455;\n",
              "      --fill-color: #D2E3FC;\n",
              "      --hover-bg-color: #434B5C;\n",
              "      --hover-fill-color: #FFFFFF;\n",
              "      --disabled-bg-color: #3B4455;\n",
              "      --disabled-fill-color: #666;\n",
              "  }\n",
              "\n",
              "  .colab-df-quickchart {\n",
              "    background-color: var(--bg-color);\n",
              "    border: none;\n",
              "    border-radius: 50%;\n",
              "    cursor: pointer;\n",
              "    display: none;\n",
              "    fill: var(--fill-color);\n",
              "    height: 32px;\n",
              "    padding: 0;\n",
              "    width: 32px;\n",
              "  }\n",
              "\n",
              "  .colab-df-quickchart:hover {\n",
              "    background-color: var(--hover-bg-color);\n",
              "    box-shadow: 0 1px 2px rgba(60, 64, 67, 0.3), 0 1px 3px 1px rgba(60, 64, 67, 0.15);\n",
              "    fill: var(--button-hover-fill-color);\n",
              "  }\n",
              "\n",
              "  .colab-df-quickchart-complete:disabled,\n",
              "  .colab-df-quickchart-complete:disabled:hover {\n",
              "    background-color: var(--disabled-bg-color);\n",
              "    fill: var(--disabled-fill-color);\n",
              "    box-shadow: none;\n",
              "  }\n",
              "\n",
              "  .colab-df-spinner {\n",
              "    border: 2px solid var(--fill-color);\n",
              "    border-color: transparent;\n",
              "    border-bottom-color: var(--fill-color);\n",
              "    animation:\n",
              "      spin 1s steps(1) infinite;\n",
              "  }\n",
              "\n",
              "  @keyframes spin {\n",
              "    0% {\n",
              "      border-color: transparent;\n",
              "      border-bottom-color: var(--fill-color);\n",
              "      border-left-color: var(--fill-color);\n",
              "    }\n",
              "    20% {\n",
              "      border-color: transparent;\n",
              "      border-left-color: var(--fill-color);\n",
              "      border-top-color: var(--fill-color);\n",
              "    }\n",
              "    30% {\n",
              "      border-color: transparent;\n",
              "      border-left-color: var(--fill-color);\n",
              "      border-top-color: var(--fill-color);\n",
              "      border-right-color: var(--fill-color);\n",
              "    }\n",
              "    40% {\n",
              "      border-color: transparent;\n",
              "      border-right-color: var(--fill-color);\n",
              "      border-top-color: var(--fill-color);\n",
              "    }\n",
              "    60% {\n",
              "      border-color: transparent;\n",
              "      border-right-color: var(--fill-color);\n",
              "    }\n",
              "    80% {\n",
              "      border-color: transparent;\n",
              "      border-right-color: var(--fill-color);\n",
              "      border-bottom-color: var(--fill-color);\n",
              "    }\n",
              "    90% {\n",
              "      border-color: transparent;\n",
              "      border-bottom-color: var(--fill-color);\n",
              "    }\n",
              "  }\n",
              "</style>\n",
              "\n",
              "      <script>\n",
              "        async function quickchart(key) {\n",
              "          const quickchartButtonEl =\n",
              "            document.querySelector('#' + key + ' button');\n",
              "          quickchartButtonEl.disabled = true;  // To prevent multiple clicks.\n",
              "          quickchartButtonEl.classList.add('colab-df-spinner');\n",
              "          try {\n",
              "            const charts = await google.colab.kernel.invokeFunction(\n",
              "                'suggestCharts', [key], {});\n",
              "          } catch (error) {\n",
              "            console.error('Error during call to suggestCharts:', error);\n",
              "          }\n",
              "          quickchartButtonEl.classList.remove('colab-df-spinner');\n",
              "          quickchartButtonEl.classList.add('colab-df-quickchart-complete');\n",
              "        }\n",
              "        (() => {\n",
              "          let quickchartButtonEl =\n",
              "            document.querySelector('#df-533f2ece-c09d-4342-9965-95d5a89a234b button');\n",
              "          quickchartButtonEl.style.display =\n",
              "            google.colab.kernel.accessAllowed ? 'block' : 'none';\n",
              "        })();\n",
              "      </script>\n",
              "    </div>\n",
              "\n",
              "  <div id=\"id_2246f9e4-f2b2-484a-a124-afa1dfb741e3\">\n",
              "    <style>\n",
              "      .colab-df-generate {\n",
              "        background-color: #E8F0FE;\n",
              "        border: none;\n",
              "        border-radius: 50%;\n",
              "        cursor: pointer;\n",
              "        display: none;\n",
              "        fill: #1967D2;\n",
              "        height: 32px;\n",
              "        padding: 0 0 0 0;\n",
              "        width: 32px;\n",
              "      }\n",
              "\n",
              "      .colab-df-generate:hover {\n",
              "        background-color: #E2EBFA;\n",
              "        box-shadow: 0px 1px 2px rgba(60, 64, 67, 0.3), 0px 1px 3px 1px rgba(60, 64, 67, 0.15);\n",
              "        fill: #174EA6;\n",
              "      }\n",
              "\n",
              "      [theme=dark] .colab-df-generate {\n",
              "        background-color: #3B4455;\n",
              "        fill: #D2E3FC;\n",
              "      }\n",
              "\n",
              "      [theme=dark] .colab-df-generate:hover {\n",
              "        background-color: #434B5C;\n",
              "        box-shadow: 0px 1px 3px 1px rgba(0, 0, 0, 0.15);\n",
              "        filter: drop-shadow(0px 1px 2px rgba(0, 0, 0, 0.3));\n",
              "        fill: #FFFFFF;\n",
              "      }\n",
              "    </style>\n",
              "    <button class=\"colab-df-generate\" onclick=\"generateWithVariable('results_comparison')\"\n",
              "            title=\"Generate code using this dataframe.\"\n",
              "            style=\"display:none;\">\n",
              "\n",
              "  <svg xmlns=\"http://www.w3.org/2000/svg\" height=\"24px\"viewBox=\"0 0 24 24\"\n",
              "       width=\"24px\">\n",
              "    <path d=\"M7,19H8.4L18.45,9,17,7.55,7,17.6ZM5,21V16.75L18.45,3.32a2,2,0,0,1,2.83,0l1.4,1.43a1.91,1.91,0,0,1,.58,1.4,1.91,1.91,0,0,1-.58,1.4L9.25,21ZM18.45,9,17,7.55Zm-12,3A5.31,5.31,0,0,0,4.9,8.1,5.31,5.31,0,0,0,1,6.5,5.31,5.31,0,0,0,4.9,4.9,5.31,5.31,0,0,0,6.5,1,5.31,5.31,0,0,0,8.1,4.9,5.31,5.31,0,0,0,12,6.5,5.46,5.46,0,0,0,6.5,12Z\"/>\n",
              "  </svg>\n",
              "    </button>\n",
              "    <script>\n",
              "      (() => {\n",
              "      const buttonEl =\n",
              "        document.querySelector('#id_2246f9e4-f2b2-484a-a124-afa1dfb741e3 button.colab-df-generate');\n",
              "      buttonEl.style.display =\n",
              "        google.colab.kernel.accessAllowed ? 'block' : 'none';\n",
              "\n",
              "      buttonEl.onclick = () => {\n",
              "        google.colab.notebook.generateWithVariable('results_comparison');\n",
              "      }\n",
              "      })();\n",
              "    </script>\n",
              "  </div>\n",
              "\n",
              "    </div>\n",
              "  </div>\n"
            ],
            "application/vnd.google.colaboratory.intrinsic+json": {
              "type": "dataframe",
              "variable_name": "results_comparison",
              "summary": "{\n  \"name\": \"results_comparison\",\n  \"rows\": 8,\n  \"fields\": [\n    {\n      \"column\": \"Measure\",\n      \"properties\": {\n        \"dtype\": \"string\",\n        \"num_unique_values\": 8,\n        \"samples\": [\n          \"AP(rel=2)\",\n          \"P(rel=2)@5\",\n          \"AP\"\n        ],\n        \"semantic_type\": \"\",\n        \"description\": \"\"\n      }\n    },\n    {\n      \"column\": \"BM25\",\n      \"properties\": {\n        \"dtype\": \"number\",\n        \"std\": 0.2947965591356933,\n        \"min\": 0.14329445164559937,\n        \"max\": 0.9777777777777776,\n        \"num_unique_values\": 8,\n        \"samples\": [\n          0.1880537952274848,\n          0.42962962962962964,\n          0.14329445164559937\n        ],\n        \"semantic_type\": \"\",\n        \"description\": \"\"\n      }\n    },\n    {\n      \"column\": \"TF-IDF\",\n      \"properties\": {\n        \"dtype\": \"number\",\n        \"std\": 0.2554761523732819,\n        \"min\": 0.09061698972524032,\n        \"max\": 0.8370370370370368,\n        \"num_unique_values\": 8,\n        \"samples\": [\n          0.12784477649222661,\n          0.3074074074074073,\n          0.09061698972524032\n        ],\n        \"semantic_type\": \"\",\n        \"description\": \"\"\n      }\n    },\n    {\n      \"column\": \"TerrierRetr(BM25)\",\n      \"properties\": {\n        \"dtype\": \"number\",\n        \"std\": 0.22653449115790333,\n        \"min\": 0.28721039713919977,\n        \"max\": 0.9722222222222221,\n        \"num_unique_values\": 8,\n        \"samples\": [\n          0.2929878529843003,\n          0.3925925925925925,\n          0.35872423661530894\n        ],\n        \"semantic_type\": \"\",\n        \"description\": \"\"\n      }\n    },\n    {\n      \"column\": \"TerrierRetr(TF_IDF)\",\n      \"properties\": {\n        \"dtype\": \"number\",\n        \"std\": 0.22663006222245125,\n        \"min\": 0.2873144515017459,\n        \"max\": 0.9722222222222221,\n        \"num_unique_values\": 8,\n        \"samples\": [\n          0.29254805937899814,\n          0.3925925925925925,\n          0.35807197489957543\n        ],\n        \"semantic_type\": \"\",\n        \"description\": \"\"\n      }\n    }\n  ]\n}"
            }
          },
          "metadata": {},
          "execution_count": 43
        }
      ],
      "source": [
        "pt_measures_long = pt_results.melt(id_vars=\"name\", var_name=\"Measure\", value_name=\"Score\")\n",
        "pt_measures_pivot = pt_measures_long.pivot(index=\"Measure\", columns=\"name\", values=\"Score\").reset_index()\n",
        "results_comparison = results.merge(pt_measures_pivot, on=\"Measure\", how=\"outer\")\n",
        "results_comparison = results_comparison.set_index(\"Measure\")\n",
        "results_comparison"
      ]
    },
    {
      "cell_type": "code",
      "execution_count": null,
      "metadata": {
        "id": "JgJDlDnkqhUN",
        "colab": {
          "base_uri": "https://localhost:8080/"
        },
        "outputId": "2594fe85-1176-460b-9957-f940597291b5"
      },
      "outputs": [
        {
          "output_type": "display_data",
          "data": {
            "text/plain": [
              "<Figure size 1200x600 with 1 Axes>"
            ],
            "image/png": "[encoded data removed]"
          },
          "metadata": {}
        }
      ],
      "source": [
        "color = [\"#FFAF00\", \"#F46920\", \"#F53255\", \"#F857C1\"]\n",
        "results_comparison.plot(kind='bar', figsize=(12, 6), color=color)\n",
        "\n",
        "plt.xlabel('Metric', fontsize=10)\n",
        "plt.ylabel('Score', fontsize=10)\n",
        "plt.title('Comparison of IR Methods across Evaluation Metrics', fontsize=12, fontweight='bold')\n",
        "\n",
        "plt.xticks(rotation=45)\n",
        "plt.legend(title=\"Method\")\n",
        "plt.grid(axis='y', linestyle='--', alpha=0.6)\n",
        "plt.tight_layout()\n",
        "plt.show()"
      ]
    },
    {
      "cell_type": "markdown",
      "metadata": {
        "id": "WHbm9Gg7tl0P"
      },
      "source": [
        "#### 6.2.1 **Observations**\n",
        "\n",
        "In this project, we successfully designed and implemented a complete **on-disk Information Retrieval system** based on a compressed inverted index architecture. The use of the SPIMI algorithm allowed us to **efficiently index** a large-scale corpus while maintaining a **low memory footprint**, thanks to its single-pass chunking strategy and merging phase.\n",
        "\n",
        "Our implementation allows fast access and decompression during query evaluation, resulting in a **negligible loss of performance** with respect to an on-RAM system.\n",
        "\n",
        "The comparison with PyTerrier highlights an important trade-off. While our custom BM25 implementation underperforms PyTerrier in global ranking quality (as shown by AP and Bpref metrics), it slightly **outperforms it in early precision and top-ranked relevance metrics** (e.g., P@5 and nDCG@10). This indicates that our index is effective in surfacing highly relevant documents in the top positions, which is crucial for user satisfaction in real-world IR systems."
      ]
    }
  ],
  "metadata": {
    "colab": {
      "provenance": [],
      "toc_visible": true
    },
    "kernelspec": {
      "display_name": "Python 3",
      "name": "python3"
    },
    "language_info": {
      "codemirror_mode": {
        "name": "ipython",
        "version": 3
      },
      "file_extension": ".py",
      "mimetype": "text/x-python",
      "name": "python",
      "nbconvert_exporter": "python",
      "pygments_lexer": "ipython3",
      "version": "3.11.5"
    }
  },
  "nbformat": 4,
  "nbformat_minor": 0
}